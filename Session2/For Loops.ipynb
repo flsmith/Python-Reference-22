{
 "cells": [
  {
   "cell_type": "markdown",
   "id": "63e39cc2",
   "metadata": {},
   "source": [
    "# For loops\n",
    "\n",
    "Without us telling it otherwise, Python will execute code within a cell from top to bottom, with each line being run once. However, most of the important tasks that computers are used for involve repeating steps a large number of times. A computer's ability to repeat steps quickly is one of the main things that make them so useful. We can have Python repeat lines by simply copy and pasting them:"
   ]
  },
  {
   "cell_type": "code",
   "execution_count": null,
   "id": "cd9cb2c3",
   "metadata": {},
   "outputs": [],
   "source": [
    "from mobilechelonian import Turtle\n",
    "\n",
    "tina = Turtle()\n",
    "\n",
    "# make tina go a bit faster for convenience\n",
    "tina.speed(5)\n",
    "\n",
    "# draw a square by repeatedly moving forward then turning left 90 degrees\n",
    "tina.forward(60)\n",
    "tina.left(90)\n",
    "tina.forward(60)\n",
    "tina.left(90)\n",
    "tina.forward(60)\n",
    "tina.left(90)\n",
    "tina.forward(60)\n",
    "tina.left(90)"
   ]
  },
  {
   "cell_type": "markdown",
   "id": "8512dbf0",
   "metadata": {},
   "source": [
    "Doing this has many problems; for example, it is prone to mistakes, difficult to read, and difficult to modify (imagine we realised we wanted a hexagon instead). A `for` loop makes the code much tidier:"
   ]
  },
  {
   "cell_type": "code",
   "execution_count": null,
   "id": "4a3226a9",
   "metadata": {},
   "outputs": [],
   "source": [
    "raph = Turtle()\n",
    "\n",
    "# make raph go a bit faster for convenience\n",
    "raph.speed(5)\n",
    "\n",
    "# To repeat something 4 times, we use the following syntax\n",
    "for i in range(4):\n",
    "    # these indented lines will be repeated 4 times\n",
    "    raph.forward(60)\n",
    "    raph.left(90)\n",
    "\n",
    "# To create any other regular polygon, you would only need to change two numbers"
   ]
  },
  {
   "cell_type": "markdown",
   "id": "fe7fab21",
   "metadata": {},
   "source": [
    "Let's break down the code above. When we want Python to repeat a process a certain *number* of times, or once for each object in some sequence, we typically use a `for` loop. The alternative is to loop until some *condition* is satisfied, which we will see in a later notebook on `while` loops. The `for` loop has the basic syntax\n",
    "\n",
    "```\n",
    "for x in some_sequence:\n",
    "    indented body statements to be repeated, possibly making use of x\n",
    "next thing to do, not repeated\n",
    "```\n",
    "\n",
    "In the example above, the `some_sequence` is `range(4)`, which represents the sequence `0, 1, 2, 3`.\n",
    "In that example, we didn't really care about what the sequence was, only that it had four elements in it so that the code would be repeated four times (note that the variable `i` was never used).\n",
    "\n",
    "Here's an example where we actually use the sequence in the `for` loop:"
   ]
  },
  {
   "cell_type": "code",
   "execution_count": null,
   "id": "923be5b8",
   "metadata": {},
   "outputs": [],
   "source": [
    "for i in range(4):\n",
    "    print(f\"i is {i}\")\n",
    "    print(f\"i squared is {i**2}\")\n",
    "# any following unindented lines will not be repeated\n",
    "print(f\"now the loop is done, and the final value of i is {i}\")"
   ]
  },
  {
   "cell_type": "markdown",
   "id": "fb8fdaf2",
   "metadata": {},
   "source": [
    "You can use any variables in your `for` loop; the only requirement is that `some_sequence` makes sense to \"loop over\". The technical name for this is that `some_sequence` is ***iterable***, and it includes things like `lists`, `sets`, `tuples`, and `ranges`, and most objects which \"contain\" other objects.\n",
    "\n",
    "The ***body*** statements are repeated once for each value in the sequence. Like regular code, they are executed from top to bottom within a `for` loop. It is important to remember that the body statements are all executed in sequence for each value of `x`, rather than executing the first statement for all `x`, and then the second statement for all `x`, and so on. You can see this behaviour in the examples above.\n"
   ]
  },
  {
   "cell_type": "markdown",
   "id": "520807a8",
   "metadata": {},
   "source": [
    "## Computing sums and pseudocode\n",
    "\n",
    "A common example of where you might use a `for`-loop is to sum up some values. For example, let's try to compute the sum\n",
    "\n",
    "\\\\[ S(n) = \\sum_{i = 1}^{n} i^{10}, \\\\]\n",
    "\n",
    "where $n$ is fixed. When we are trying to write code to solve a problem, it is often the best strategy to first understand how we would systematically do the computation by hand. To compute $S(n)$, the simplest method is to keep a running total, starting with zero and adding $i^{10}$ to the total for $i = 1, \\ldots, n$. We might write this down in the following way:\n",
    "\n",
    "- We have some fixed $n \\in \\mathbb{N}$\n",
    "- Start with the total being 0  \n",
    "- For $i = 1, 2, \\ldots, n$:  \n",
    "    - Add $i^{10}$ to the total\n",
    "- Report the total as the answer\n",
    "\n",
    "We call this sort of description of how to systematically solve a problem ***pseudocode***. Pseudocode is not code and there is no specific standard which you must follow when writing it, but it should be possible to turn pseudocode directly into code. For example, the pseudocode above translates directly into Python like so:"
   ]
  },
  {
   "cell_type": "code",
   "execution_count": null,
   "id": "58f2c4ab",
   "metadata": {},
   "outputs": [],
   "source": [
    "# fix a value of n\n",
    "n = 10\n",
    "\n",
    "# start with the total being 0\n",
    "total = 0\n",
    "\n",
    "# loop through i = 0, 1, ..., n\n",
    "for i in range(n + 1):\n",
    "    # add i**10 to the total\n",
    "    total = total + i**10\n",
    "\n",
    "# report the total as the answer\n",
    "total"
   ]
  },
  {
   "cell_type": "markdown",
   "id": "8eba1dd4",
   "metadata": {},
   "source": [
    "# Ranges"
   ]
  },
  {
   "cell_type": "markdown",
   "id": "184bec9d",
   "metadata": {},
   "source": [
    "In the example above, we used the command `range(4)` to create the sequence `0, 1, 2, 3`. Ranges are a very common way of making sequences of integers. You can see the numbers in a `range` by using the `list` command:"
   ]
  },
  {
   "cell_type": "code",
   "execution_count": null,
   "id": "ae0ea1a7",
   "metadata": {},
   "outputs": [],
   "source": [
    "list(range(4))"
   ]
  },
  {
   "cell_type": "markdown",
   "id": "db8e8fa3",
   "metadata": {},
   "source": [
    "By default, a `range` starts at `0` and stops ***before*** reaching the stop value. You can change where the range starts by providing a `start` value as well:"
   ]
  },
  {
   "cell_type": "code",
   "execution_count": null,
   "id": "045e1e61",
   "metadata": {},
   "outputs": [],
   "source": [
    "list(range(4, 10))"
   ]
  },
  {
   "cell_type": "markdown",
   "id": "82b6fb99",
   "metadata": {},
   "source": [
    "Sometimes we don't want the integers to increase by `1` each time. We can change this by giving a `step` argument. For example, to produce the odd numbers between 1 and 21 (inclusive), we could start at 1 and step by 2 each time:"
   ]
  },
  {
   "cell_type": "code",
   "execution_count": null,
   "id": "62e2c0e1",
   "metadata": {},
   "outputs": [],
   "source": [
    "list(range(1, 22, 2))"
   ]
  },
  {
   "cell_type": "markdown",
   "id": "d3aaf0c9",
   "metadata": {},
   "source": [
    "The `stop` value doesn't have to be precisely 1 more than the final value; it just has to be *less than or equal to* than the next value that the step would produce. In the previous example, using `23` as the stop value would produce the same result."
   ]
  },
  {
   "cell_type": "code",
   "execution_count": null,
   "id": "c0a4bd29",
   "metadata": {},
   "outputs": [],
   "source": [
    "list(range(1, 23, 2))"
   ]
  },
  {
   "cell_type": "markdown",
   "id": "28640a05",
   "metadata": {},
   "source": [
    "We can also go backwards by giving a negative step value. Note that in this case, the final element of the `range` will be *greater* than the `stop` value."
   ]
  },
  {
   "cell_type": "code",
   "execution_count": null,
   "id": "a4541876",
   "metadata": {},
   "outputs": [],
   "source": [
    "list(range(23, 11, -2))"
   ]
  },
  {
   "cell_type": "markdown",
   "id": "613c4aa8",
   "metadata": {},
   "source": [
    "# Looping over lists\n",
    "\n",
    "It is very common to loop over a `range`, but you can also loop over other things. We'll see more on `lists` later, but for now here is an example where we iterate over a `list` of strings:"
   ]
  },
  {
   "cell_type": "code",
   "execution_count": null,
   "id": "db080060",
   "metadata": {},
   "outputs": [],
   "source": [
    "fruits = [\"apple\", \"durian\", \"mangosteen\", \"pear\"]\n",
    "for fruit in fruits:\n",
    "    print(f\"'{fruit}' has {len(fruit)} letters\")"
   ]
  },
  {
   "cell_type": "markdown",
   "id": "4dfd68ef",
   "metadata": {},
   "source": [
    "# Nested `for` loops\n",
    "It is often useful to \"nest\" a loop inside another loop. When this occurs, the \"inner\" loop (i.e. the one inside the body of the other loop) will be fully executed, then the \"outer\" loop will iterate; the inner loop will execute again, and so on until the outer loop is finished.\n",
    "\n",
    "This idea is easiest seen by example. Note that the body of the inner loop is indented two levels."
   ]
  },
  {
   "cell_type": "code",
   "execution_count": null,
   "id": "d661e1bf",
   "metadata": {},
   "outputs": [],
   "source": [
    "for i in range(2):\n",
    "    print(\"Start of the outer loop body\")\n",
    "    for j in range(3, 5):\n",
    "        print(f\"  Inner loop: the outer loop variable is {i} and inner loop variable is {j}\")\n",
    "    print(\"End of the outer loop body\")"
   ]
  },
  {
   "cell_type": "markdown",
   "id": "d1177637",
   "metadata": {},
   "source": [
    "This might seem like a strange thing to want to do, but many problems involve repeating a repetitive task.\n",
    "For example, suppose you have an inbox full of emails you need to respond to. You could represent the basic process of responding to all your emails like this:\n",
    "\n",
    "- For each email in your inbox:\n",
    "    - For each word in the email:\n",
    "        - Read the word\n",
    "    - Think of a response\n",
    "    - For each word of the response:\n",
    "        - Write the word\n",
    "        - Add any necessary punctuation\n",
    "\n",
    "We could also break down writing words into repeatedly typing letters - another level of nesting in our repetition! You can nest loops as much as you want in Python, but if you find yourself with many levels of nesting it is usually a sign that you need to reconsider what you are doing and try to simplify it.\n",
    "\n",
    "Here's another example, where we output some short multiplication tables."
   ]
  },
  {
   "cell_type": "code",
   "execution_count": null,
   "id": "9f845964",
   "metadata": {},
   "outputs": [],
   "source": [
    "for i in range(7, 10):\n",
    "    print(f\"{i} times table:\")\n",
    "    for j in range(1, 5):\n",
    "        print(f\"{i} x {j} is {i*j}\")\n",
    "    print() # print a blank line; note that this is only in the \"outer\" loop"
   ]
  },
  {
   "cell_type": "markdown",
   "id": "104653a0",
   "metadata": {},
   "source": [
    "Here's an example with a turtle; we draw a triangle with a small hexagon attached to each corner."
   ]
  },
  {
   "cell_type": "code",
   "execution_count": null,
   "id": "c539532b",
   "metadata": {},
   "outputs": [],
   "source": [
    "from mobilechelonian import Turtle\n",
    "\n",
    "leo = Turtle()\n",
    "leo.speed(8)\n",
    "\n",
    "# loop 3 times for the triangle\n",
    "for i in range(3):\n",
    "    leo.forward(100)\n",
    "    \n",
    "    # get the hexagon in the right orientation.\n",
    "    leo.right(90)\n",
    "\n",
    "    # loop 6 times for the hexagon\n",
    "    for i in range(6):\n",
    "        leo.forward(30)\n",
    "        leo.left(60)\n",
    "\n",
    "    # point the turtle back in the right direction for the next triangle edge\n",
    "    leo.left(210)"
   ]
  },
  {
   "cell_type": "markdown",
   "id": "6104d251",
   "metadata": {},
   "source": [
    "Finally, let's use nested loops to compute the double sum\n",
    "\n",
    "\\\\[ \\sum_{i = 1}^{10} \\sum_{j = 2 \\text{, j even}}^{20} \\frac{1}{i ^2  j}. \\\\]"
   ]
  },
  {
   "cell_type": "code",
   "execution_count": null,
   "id": "6e3d8ed4",
   "metadata": {},
   "outputs": [],
   "source": [
    "# start with the total being 0\n",
    "total = 0\n",
    "\n",
    "# Use nested for-loops for the double sum.\n",
    "# The loop variables correspond to the sum indices.\n",
    "for i in range(1, 11):\n",
    "    for j in range(2, 21, 2):\n",
    "        term = 1 / (i**2 * j)\n",
    "        # the next line means \"total = total + term\"\n",
    "        total += term\n",
    "total"
   ]
  }
 ],
 "metadata": {
  "kernelspec": {
   "display_name": "Python 3",
   "language": "python",
   "name": "python3"
  },
  "language_info": {
   "codemirror_mode": {
    "name": "ipython",
    "version": 3
   },
   "file_extension": ".py",
   "mimetype": "text/x-python",
   "name": "python",
   "nbconvert_exporter": "python",
   "pygments_lexer": "ipython3",
   "version": "3.10.4"
  },
  "toc": {
   "base_numbering": 1,
   "nav_menu": {},
   "number_sections": false,
   "sideBar": true,
   "skip_h1_title": false,
   "title_cell": "Table of Contents",
   "title_sidebar": "Contents",
   "toc_cell": false,
   "toc_position": {},
   "toc_section_display": true,
   "toc_window_display": true
  },
  "varInspector": {
   "cols": {
    "lenName": 16,
    "lenType": 16,
    "lenVar": 40
   },
   "kernels_config": {
    "python": {
     "delete_cmd_postfix": "",
     "delete_cmd_prefix": "del ",
     "library": "var_list.py",
     "varRefreshCmd": "print(var_dic_list())"
    },
    "r": {
     "delete_cmd_postfix": ") ",
     "delete_cmd_prefix": "rm(",
     "library": "var_list.r",
     "varRefreshCmd": "cat(var_dic_list()) "
    }
   },
   "types_to_exclude": [
    "module",
    "function",
    "builtin_function_or_method",
    "instance",
    "_Feature"
   ],
   "window_display": false
  }
 },
 "nbformat": 4,
 "nbformat_minor": 5
}
