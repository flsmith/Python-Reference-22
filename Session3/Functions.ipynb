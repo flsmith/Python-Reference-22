{
 "cells": [
  {
   "cell_type": "markdown",
   "id": "42d406a2",
   "metadata": {},
   "source": [
    "# Functions\n",
    "Throughout the previous Notebooks, we have been using ***functions*** provided by Python or by modules like `numpy` or `mobilechelonian`. Functions are one of the key features of programming languages that allow us to write complex programs. When we talk about functions in programming, we mean something more general than in mathematics.\n",
    "A function is simply a piece of code that achieves a particular task, and is written in such a way that it can be ***called*** whenever that task needs to be done. One of the key skills in programming is splitting up a problem into smaller sub-problems (i.e. smaller problems) that can be solved by functions.\n",
    "Because functions are used to solve sub-problems, functions are sometimes called \"subroutines\" in other programming languages.\n",
    "\n",
    "Here's an example of how we can define a function to draw a square using a turtle."
   ]
  },
  {
   "cell_type": "code",
   "execution_count": null,
   "id": "52673ae1",
   "metadata": {},
   "outputs": [],
   "source": [
    "def draw_square(turt):\n",
    "    for i in range(4):\n",
    "        turt.forward(100)\n",
    "        turt.left(90)"
   ]
  },
  {
   "cell_type": "code",
   "execution_count": null,
   "id": "1ca38048",
   "metadata": {},
   "outputs": [],
   "source": [
    "from mobilechelonian import Turtle\n",
    "raphael = Turtle()\n",
    "raphael.speed(5)\n",
    "\n",
    "draw_square(raphael) # call the function with argument terry"
   ]
  },
  {
   "cell_type": "markdown",
   "id": "4b75d112",
   "metadata": {},
   "source": [
    "Let's look at what this means. The line `def draw_square(turt):` tells Python that we are defining a function which is called `draw_square` and has a single ***parameter*** called `turt`. This means that we will be able to ***call*** the function `draw_square` by passing a single ***argument*** like so: `draw_square(raphael)`. Inside the function, there will be a variable called `turt` which refers to `raphael`. You can think of `turt` being replaced by `raphael` wherever it is used.\n",
    "\n",
    "The indented block of code\n",
    "```\n",
    "    for i in range(4):\n",
    "        turt.forward(100)\n",
    "        turt.left(90)\n",
    "```\n",
    "is called the ***body*** of the function. Whenever we call `draw_square`, the lines of code in the body are run, but `turt` will refer to whatever argument is given to the function. If we call `draw_square(raphael)` then you can think of the body of the `for` loop as being\n",
    "\n",
    "```\n",
    "    for i in range(4):\n",
    "        raphael.forward(100)\n",
    "        raphael.left(90)\n",
    "```\n",
    "\n",
    "Note that we could call `draw_square` with **any** single argument, like the number `3`.\n",
    "Because it doesn't make sense to call `3.forward(100)` or `3.left(90)`, we would get a runtime error if we try to call `draw_square(3)`; see the optional aside at the end for more details."
   ]
  },
  {
   "cell_type": "markdown",
   "id": "3298a10e",
   "metadata": {},
   "source": [
    "So far this hasn't saved us any effort - we might as well have just written the code that draws the square like we did in previous Notebooks. The savings occur when we use the function more than once:"
   ]
  },
  {
   "cell_type": "code",
   "execution_count": null,
   "id": "81d890b1",
   "metadata": {},
   "outputs": [],
   "source": [
    "terry = Turtle()\n",
    "terry.speed(5)\n",
    "\n",
    "terry.pencolor(\"orange\")     # anything terry draws will now be orange\n",
    "draw_square(terry)\n",
    "\n",
    "terry.right(90)\n",
    "\n",
    "terry.pencolor(\"green\")      # anything terry draws will now be green\n",
    "draw_square(terry)"
   ]
  },
  {
   "cell_type": "markdown",
   "id": "ece8d253",
   "metadata": {},
   "source": [
    "Having the function `draw_square` allowed us to draw two squares without repeating many lines of code. A common piece of advice is to write **DRY** code (Don't Repeat Yourself) not **WET** code (Write Everything Twice) - in other words, where you have to perform the same set of operations multiple times, write a function once and use it.\n",
    "\n",
    "Functions have another major benefit, which makes them worth writing even if you only use them once. They are a natural way of splitting a problem into smaller parts, and they make it easier to test your code, since you can test each function individually. If you choose sensible function names, they also make your code easier to understand, since anyone reading your code can see what the function is supposed to accomplish. You don't need to read the code for the function `draw_square` to understand what the previous code cell should do."
   ]
  },
  {
   "cell_type": "markdown",
   "id": "0bf103fc",
   "metadata": {},
   "source": [
    "# Fruitful functions\n",
    "\n",
    "In the example above, the function `draw_square` \"does something\" - we give it an object and ask it to do something to that object. There is another use of functions, which we have seen before with `numpy`:"
   ]
  },
  {
   "cell_type": "code",
   "execution_count": null,
   "id": "19336c0c",
   "metadata": {},
   "outputs": [],
   "source": [
    "import numpy as np\n",
    "\n",
    "np.sin(np.pi/2)"
   ]
  },
  {
   "cell_type": "markdown",
   "id": "1663be29",
   "metadata": {},
   "source": [
    "Here the function `np.sin` ***returns*** an answer. Here's how you return a value:"
   ]
  },
  {
   "cell_type": "code",
   "execution_count": null,
   "id": "75535433",
   "metadata": {},
   "outputs": [],
   "source": [
    "# returns the square of x\n",
    "def square(x):\n",
    "    return x ** 2\n",
    "\n",
    "square(3)"
   ]
  },
  {
   "cell_type": "markdown",
   "id": "ed334150",
   "metadata": {},
   "source": [
    "Of course, `square` is not very useful - we could just write `3 ** 2` directly instead. Here's a more useful example - a function to represent the polynomial $f(x) = (2x-3)^3 - 10(2x -3) + 2$."
   ]
  },
  {
   "cell_type": "code",
   "execution_count": null,
   "id": "e2f8e75c",
   "metadata": {},
   "outputs": [],
   "source": [
    "def f(x):\n",
    "    y = 2*x - 3\n",
    "    return y ** 3 - 10*y + 2"
   ]
  },
  {
   "cell_type": "markdown",
   "id": "b3475b6c",
   "metadata": {},
   "source": [
    "We will see more on plotting in a later Notebook, but it is now straightforward to plot `f`:"
   ]
  },
  {
   "cell_type": "code",
   "execution_count": null,
   "id": "a5588d40",
   "metadata": {},
   "outputs": [],
   "source": [
    "%matplotlib inline\n",
    "import matplotlib.pyplot as plt    # the standard plotting library\n",
    "\n",
    "X = np.linspace(-2, 5, 1000)  # choose the points to evaluate f on\n",
    "plt.plot(X, f(X))             # plot those points against the value of f\n",
    "plt.show()                    # tells Python to produce the plot now\n",
    "\n",
    "# We should also add axes labels, a title, and a legend - but we will\n",
    "# leave that for now."
   ]
  },
  {
   "cell_type": "markdown",
   "id": "dd0b0dd9",
   "metadata": {},
   "source": [
    "# Multiple parameters\n",
    "\n",
    "Your functions can have more than one parameter. For example, the polynomial in two variables $g(x, y) = 2x^2y + xy^2 + 3y^3$ could be represented like so:"
   ]
  },
  {
   "cell_type": "code",
   "execution_count": null,
   "id": "353e04de",
   "metadata": {},
   "outputs": [],
   "source": [
    "def g(x, y):\n",
    "    return 2*(x**2)*y + x*(y**2) + 3*(y**3)"
   ]
  },
  {
   "cell_type": "markdown",
   "id": "fa70369d",
   "metadata": {},
   "source": [
    "It is important that when you call `g` you provide the arguments in the same order they are defined, so to evaluate $g$ at $(x = 1, y = 2)$ you should call"
   ]
  },
  {
   "cell_type": "code",
   "execution_count": null,
   "id": "0417b599",
   "metadata": {},
   "outputs": [],
   "source": [
    "g(1, 2)"
   ]
  },
  {
   "cell_type": "markdown",
   "id": "10175b30",
   "metadata": {},
   "source": [
    "# Multiple return values\n",
    "\n",
    "Strictly speaking, functions have at most one return value. However, that return value can be a ***tuple*** containing multiple things, and you can \"unpack\" the tuple into several variables after returning it. There is more on tuples later. For now, we consider the example of writing a Python function to represent the mathematical vector function\n",
    "\n",
    "\\\\[ w(x, y) = \\begin{pmatrix} x^2y + 3 \\\\ y^3 - 3x \\end{pmatrix}. \\\\]"
   ]
  },
  {
   "cell_type": "code",
   "execution_count": null,
   "id": "6d27226e",
   "metadata": {},
   "outputs": [],
   "source": [
    "def w(x, y):\n",
    "    return x**2 * y + 3, y**3 - 3*x     # returns a tuple of values"
   ]
  },
  {
   "cell_type": "code",
   "execution_count": null,
   "id": "04d162f6",
   "metadata": {},
   "outputs": [],
   "source": [
    "# the return value of w(2, 3) is a tuple:\n",
    "w(2, 3)"
   ]
  },
  {
   "cell_type": "code",
   "execution_count": null,
   "id": "d4d3b203",
   "metadata": {},
   "outputs": [],
   "source": [
    "# get the first component of w(2, 3) as u, and the second component as v\n",
    "u, v = w(2, 3)"
   ]
  },
  {
   "cell_type": "code",
   "execution_count": null,
   "id": "68ff3639",
   "metadata": {},
   "outputs": [],
   "source": [
    "u"
   ]
  },
  {
   "cell_type": "code",
   "execution_count": null,
   "id": "e1a90f96",
   "metadata": {},
   "outputs": [],
   "source": [
    "v"
   ]
  },
  {
   "cell_type": "markdown",
   "id": "a0ddc7ee",
   "metadata": {},
   "source": [
    "# Invisible variables\n",
    "One crucial fact about functions is that variables that are created inside functions cannot be accessed from the outside. The following two code cells give an error, because we try to access a variable that only exists inside the function `sum_of_inverse_squares`. We instead should be using the value `sum_of_inverse_squares(20)` directly, or storing it in a variable."
   ]
  },
  {
   "cell_type": "code",
   "execution_count": null,
   "id": "05e3b7cf",
   "metadata": {},
   "outputs": [],
   "source": [
    "import numpy as np\n",
    "\n",
    "# returns the sum of (1/n**2) for i from 1 to n\n",
    "def sum_of_inverse_squares(n):\n",
    "    sum_total = 0\n",
    "    for i in range(1, n + 1):\n",
    "        sum_total = sum_total + 1/(i**2)\n",
    "    return sum_total\n",
    "\n",
    "sum_of_inverse_squares(20)"
   ]
  },
  {
   "cell_type": "code",
   "execution_count": null,
   "id": "0991a018",
   "metadata": {},
   "outputs": [],
   "source": [
    "sum_total    # this doesn't work!"
   ]
  },
  {
   "cell_type": "markdown",
   "id": "160afe72",
   "metadata": {},
   "source": [
    "You can think of functions as \"black boxes\": from the perspective of the rest of a program, precisely what goes on inside a function is invisible. The program simply feeds them some input (the arguments), the box does something, and then it may or may not give some output (a `return` value).\n",
    "\n",
    "**Note:** while variables inside functions are hidden from the rest of the program, functions *can* access variables that exist in the rest of the program. If they modify those variables, the effects can be seen in the rest of the program (though whether or not the effect will be seen is a little complex). This can be very confusing, and it is usually better to have all of the information a function needs as parameters."
   ]
  },
  {
   "cell_type": "markdown",
   "id": "3431b335",
   "metadata": {},
   "source": [
    "The principles governing when a given variable name is useable or not are called *scoping*, and for the moment we don't want you to get bogged down in them."
   ]
  },
  {
   "cell_type": "markdown",
   "id": "64869127",
   "metadata": {},
   "source": [
    "# Optional Aside 1: Member functions\n",
    "When we tell a turtle to move forward by writing `turtle.forward(100)`, we are also calling a function. However, it looks different to calling `draw_square(turtle)` or `draw_pentagon(turtle)`. This is because `forward` is a *member* function of the `Turtle` *class*. In these notes we won't discuss these terms any further, other than to say that it would be possible to make `draw_square` into a member function and call it in the form `turtle.draw_square()`."
   ]
  },
  {
   "cell_type": "markdown",
   "id": "23a7d7bd",
   "metadata": {},
   "source": [
    "# Optional Aside 2: Duck typing\n",
    "\n",
    "In many programming languages, we would have to declare what \"type\" of objects our function takes, and the language would not allow us to pass any arguments that do not match those types. Python is more permissive, and uses \"duck typing\". This follows the philosophy \"if it walks like a duck, and quacks like a duck, it is a duck\". \n",
    "\n",
    "Suppose we have written a function that is intended to take a `Duck` as its parameter `d`. Python will accept any argument (say, `bird`), and attempt to run the function. As long as the argument `bird` can do everything that the function asks the duck to do (e.g. `d.fly(somewhere)`), Python will be happy. But now suppose that the function also asks for `d.swim(somewhere)`, and this species of bird cannot swim (i.e. `bird` has no `swim` member function). At this point, Python will throw a runtime error."
   ]
  },
  {
   "cell_type": "markdown",
   "id": "61b872c0",
   "metadata": {},
   "source": [
    "# Optional Aside 3: Default Arguments\n",
    "\n",
    "Sometimes you want to provide a sensible default value for a parameter, so that someone using your function doesn't have to enter it. This happens with the function `range` - it has a default `start` value of 0 and `step` value of 1. Here's an example of how you would do this; note the `terms=10` in the function definition."
   ]
  },
  {
   "cell_type": "code",
   "execution_count": null,
   "id": "72479e18",
   "metadata": {},
   "outputs": [],
   "source": [
    "import math\n",
    "\n",
    "# evaluate the MacLaurin series of sin at x\n",
    "# defaults to 10 terms in the series\n",
    "def sin_maclaurin(x, terms=10):\n",
    "    total = 0\n",
    "    for i in range(terms):\n",
    "        term = (-1)**i * x**(2*i + 1)/math.factorial(2*i + 1)\n",
    "        total += term\n",
    "    return total"
   ]
  },
  {
   "cell_type": "code",
   "execution_count": null,
   "id": "c0f9c380",
   "metadata": {},
   "outputs": [],
   "source": [
    "import numpy as np\n",
    "\n",
    "# evaluate sin(5pi) using 10 terms\n",
    "sin_maclaurin(5 * np.pi)"
   ]
  },
  {
   "cell_type": "code",
   "execution_count": null,
   "id": "b735b7d5",
   "metadata": {},
   "outputs": [],
   "source": [
    "# now use 20 terms for a more accurate value (still not great!)\n",
    "sin_maclaurin(5 * np.pi, 20)"
   ]
  }
 ],
 "metadata": {
  "kernelspec": {
   "display_name": "Python 3",
   "language": "python",
   "name": "python3"
  },
  "language_info": {
   "codemirror_mode": {
    "name": "ipython",
    "version": 3
   },
   "file_extension": ".py",
   "mimetype": "text/x-python",
   "name": "python",
   "nbconvert_exporter": "python",
   "pygments_lexer": "ipython3",
   "version": "3.10.4"
  },
  "toc": {
   "base_numbering": 1,
   "nav_menu": {},
   "number_sections": false,
   "sideBar": true,
   "skip_h1_title": false,
   "title_cell": "Table of Contents",
   "title_sidebar": "Contents",
   "toc_cell": false,
   "toc_position": {},
   "toc_section_display": true,
   "toc_window_display": true
  },
  "varInspector": {
   "cols": {
    "lenName": 16,
    "lenType": 16,
    "lenVar": 40
   },
   "kernels_config": {
    "python": {
     "delete_cmd_postfix": "",
     "delete_cmd_prefix": "del ",
     "library": "var_list.py",
     "varRefreshCmd": "print(var_dic_list())"
    },
    "r": {
     "delete_cmd_postfix": ") ",
     "delete_cmd_prefix": "rm(",
     "library": "var_list.r",
     "varRefreshCmd": "cat(var_dic_list()) "
    }
   },
   "types_to_exclude": [
    "module",
    "function",
    "builtin_function_or_method",
    "instance",
    "_Feature"
   ],
   "window_display": false
  }
 },
 "nbformat": 4,
 "nbformat_minor": 5
}
