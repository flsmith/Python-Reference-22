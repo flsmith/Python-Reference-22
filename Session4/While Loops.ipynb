{
 "cells": [
  {
   "cell_type": "markdown",
   "id": "0d232865",
   "metadata": {},
   "source": [
    "# While loops\n",
    "`For` loops are a very valuable construct for repeating something when you already know how many times you will need to repeat (even if that is determined by some other variable). However, we often wish to repeat until a condition is no longer satisfied. For example, we might summarise the process of debugging as \"while there are still bugs in the program, fix a bug!\"\n",
    "\n",
    "Python offers the `while` loop for this purpose. It has the following form:\n",
    "```\n",
    "while <condition>:\n",
    "    things to do while the condition is True\n",
    "```\n",
    "Python will first evaluate the condition. If it is `True`, then the loop body will be run. The condition will then be checked again, and if it is `True` the loop body will be run again. This continues until the condition evaluates to `False`.\n",
    "Here's an example:"
   ]
  },
  {
   "cell_type": "code",
   "execution_count": 1,
   "id": "6b527a9b",
   "metadata": {},
   "outputs": [
    {
     "name": "stdout",
     "output_type": "stream",
     "text": [
      "after 1 iterations, x = 0.17999999999999997\n",
      "after 2 iterations, x = 0.29519999999999996\n",
      "after 3 iterations, x = 0.41611392\n",
      "after 4 iterations, x = 0.4859262511644672\n",
      "after 5 iterations, x = 0.49960385918742867\n",
      "after 6 iterations, x = 0.49999968614491325\n",
      "after 7 iterations, x = 0.49999999999980305\n",
      "after 8 iterations, x = 0.5\n"
     ]
    }
   ],
   "source": [
    "x = 0.9\n",
    "i = 0\n",
    "\n",
    "while x != 0.5:\n",
    "    x = 2*x*(1-x)\n",
    "    i += 1  # increment i manually, as we're not using a for-loop\n",
    "    print(f\"after {i} iterations, x = {x}\")"
   ]
  },
  {
   "cell_type": "markdown",
   "id": "a523bed6",
   "metadata": {},
   "source": [
    "Note that the condition isn't checked *inside* the loop body, so Python won't break the loop halfway through the loop body if the condition becomes `False`. Because of this, if we rearranged the statements in the loop body, we would get a different final number printed:"
   ]
  },
  {
   "cell_type": "code",
   "execution_count": 2,
   "id": "fbe365ce",
   "metadata": {},
   "outputs": [
    {
     "name": "stdout",
     "output_type": "stream",
     "text": [
      "after 0 iterations, x = 0.9\n",
      "after 1 iterations, x = 0.17999999999999997\n",
      "after 2 iterations, x = 0.29519999999999996\n",
      "after 3 iterations, x = 0.41611392\n",
      "after 4 iterations, x = 0.4859262511644672\n",
      "after 5 iterations, x = 0.49960385918742867\n",
      "after 6 iterations, x = 0.49999968614491325\n",
      "after 7 iterations, x = 0.49999999999980305\n"
     ]
    }
   ],
   "source": [
    "x = 0.9\n",
    "i = 0\n",
    "\n",
    "while x != 0.5:\n",
    "    print(f\"after {i} iterations, x = {x}\")\n",
    "    i += 1\n",
    "    x = 2*x*(1-x)"
   ]
  },
  {
   "cell_type": "markdown",
   "id": "a6ead784",
   "metadata": {},
   "source": [
    "In the example below, we have a turtle draw a spiral from the centre until it reaches a bounding box 150 units away from the centre."
   ]
  },
  {
   "cell_type": "code",
   "execution_count": 3,
   "id": "03254fe1",
   "metadata": {},
   "outputs": [
    {
     "data": {
      "application/vnd.jupyter.widget-view+json": {
       "model_id": "7cdac91baa94494faa762eda5134c9a7",
       "version_major": 2,
       "version_minor": 0
      },
      "text/plain": [
       "Turtle()"
      ]
     },
     "metadata": {},
     "output_type": "display_data"
    }
   ],
   "source": [
    "from mobilechelonian import Turtle\n",
    "import numpy as np\n",
    "\n",
    "# the centre coordinate is (200, 200)\n",
    "centre = 200\n",
    "\n",
    "# create a turtle caled Terry\n",
    "terry = Turtle()\n",
    "terry.speed(10)\n",
    "\n",
    "# we need a variable to keep track of the angle to turn to make the spiral\n",
    "i = 1\n",
    "\n",
    "# Loop until terry is 150 away from the centre in the x or y direction.\n",
    "# np.abs computes the absolute value of its argument, so we are testing the if the difference\n",
    "# between centre and posX is < 150, and the difference between centre and posY is < 150.\n",
    "while (np.abs(centre - terry.posX) < 150) and (np.abs(centre - terry.posY) < 150):\n",
    "    # move forward a small amount to approximate a curve\n",
    "    terry.forward(5)\n",
    "    \n",
    "    # The angle terry turns should get smaller as he goes to obtain a spiral\n",
    "    # so turn by 360/i, then increase i.\n",
    "    # There are many other choices that would also make a spiral.\n",
    "    terry.left(360/i)\n",
    "    i = i + 1"
   ]
  },
  {
   "cell_type": "markdown",
   "id": "0d907348",
   "metadata": {},
   "source": [
    "# Infinite loops\n",
    "There is a danger lurking in `while` loops: what happens if the condition *never* becomes `False`? Python will simply keep running the loop body forever. This is called an ***infinite loop***, and is one of the common causes of programs freezing or crashing. Whenever you write a `while` loop, you should consider how you know it will eventually finish, i.e. how you know that the condition will eventually be false. It is [literally impossible](https://en.wikipedia.org/wiki/Halting_problem) for Python to decide whether a general `while` loop will terminate, and so it is up to you as the programmer!\n",
    "Proving that a `while` loop will terminate often requires some mathematical insight.\n",
    "\n",
    " If you run into an infinite loop (or simply a loop which is taking too long to terminate), you can stop Python executing your code by clicking the \"stop\" button in the menu beside the \"Run\" button."
   ]
  },
  {
   "cell_type": "markdown",
   "id": "645ab5e0",
   "metadata": {},
   "source": [
    "# `Break`ing out of loops\n",
    "\n",
    "There are two common alternatives used to break out of while loops. The first is the `break` statement. When this is encountered in a loop, Python will immediately stop executing the loop and go to the next line in the code. If you have nested loops, `break` will only break out of the inner-most loop that contains the `break` statement.\n",
    "\n",
    "In the example below, a `break` statement is used to exit a `while` loop when the user inputs the correct number. We'll discuss user input more in the final worksheet. If you execute the following cell, Python will get \"stuck\" in the loop and you will have to exit using the \"stop\" button in the menu bar, or by guessing the correct number. The technique used in this example - using `while True` to keep looping and processing user input - is called an \"event loop\" and lies at the heart of any program you can interact with continuously, like office software or games."
   ]
  },
  {
   "cell_type": "code",
   "execution_count": 4,
   "id": "dad8f467",
   "metadata": {},
   "outputs": [
    {
     "name": "stdout",
     "output_type": "stream",
     "text": [
      "Guess a number between 0 and 100 - I only stop when you get it right!\n"
     ]
    },
    {
     "ename": "KeyboardInterrupt",
     "evalue": "Interrupted by user",
     "output_type": "error",
     "traceback": [
      "\u001b[0;31m---------------------------------------------------------------------------\u001b[0m",
      "\u001b[0;31mKeyboardInterrupt\u001b[0m                         Traceback (most recent call last)",
      "Input \u001b[0;32mIn [4]\u001b[0m, in \u001b[0;36m<cell line: 13>\u001b[0;34m()\u001b[0m\n\u001b[1;32m     12\u001b[0m \u001b[38;5;66;03m# Start a while loop which only exits if the user guesses the number correctly\u001b[39;00m\n\u001b[1;32m     13\u001b[0m \u001b[38;5;28;01mwhile\u001b[39;00m \u001b[38;5;28;01mTrue\u001b[39;00m:\n\u001b[1;32m     14\u001b[0m     \u001b[38;5;66;03m# This line reads in a guess from the user:\u001b[39;00m\n\u001b[0;32m---> 15\u001b[0m     guess \u001b[38;5;241m=\u001b[39m \u001b[38;5;28mint\u001b[39m(\u001b[38;5;28;43minput\u001b[39;49m\u001b[43m(\u001b[49m\u001b[38;5;124;43m\"\u001b[39;49m\u001b[38;5;124;43m>\u001b[39;49m\u001b[38;5;124;43m\"\u001b[39;49m\u001b[43m)\u001b[49m)\n\u001b[1;32m     16\u001b[0m     \u001b[38;5;66;03m# Next see whether the guess is too small, too large or right:\u001b[39;00m\n\u001b[1;32m     17\u001b[0m     \u001b[38;5;28;01mif\u001b[39;00m guess \u001b[38;5;241m<\u001b[39m answer:\n",
      "File \u001b[0;32m~/anaconda3/envs/nbgrader2/lib/python3.10/site-packages/ipykernel/kernelbase.py:1161\u001b[0m, in \u001b[0;36mKernel.raw_input\u001b[0;34m(self, prompt)\u001b[0m\n\u001b[1;32m   1157\u001b[0m \u001b[38;5;28;01mif\u001b[39;00m \u001b[38;5;129;01mnot\u001b[39;00m \u001b[38;5;28mself\u001b[39m\u001b[38;5;241m.\u001b[39m_allow_stdin:\n\u001b[1;32m   1158\u001b[0m     \u001b[38;5;28;01mraise\u001b[39;00m StdinNotImplementedError(\n\u001b[1;32m   1159\u001b[0m         \u001b[38;5;124m\"\u001b[39m\u001b[38;5;124mraw_input was called, but this frontend does not support input requests.\u001b[39m\u001b[38;5;124m\"\u001b[39m\n\u001b[1;32m   1160\u001b[0m     )\n\u001b[0;32m-> 1161\u001b[0m \u001b[38;5;28;01mreturn\u001b[39;00m \u001b[38;5;28;43mself\u001b[39;49m\u001b[38;5;241;43m.\u001b[39;49m\u001b[43m_input_request\u001b[49m\u001b[43m(\u001b[49m\n\u001b[1;32m   1162\u001b[0m \u001b[43m    \u001b[49m\u001b[38;5;28;43mstr\u001b[39;49m\u001b[43m(\u001b[49m\u001b[43mprompt\u001b[49m\u001b[43m)\u001b[49m\u001b[43m,\u001b[49m\n\u001b[1;32m   1163\u001b[0m \u001b[43m    \u001b[49m\u001b[38;5;28;43mself\u001b[39;49m\u001b[38;5;241;43m.\u001b[39;49m\u001b[43m_parent_ident\u001b[49m\u001b[43m[\u001b[49m\u001b[38;5;124;43m\"\u001b[39;49m\u001b[38;5;124;43mshell\u001b[39;49m\u001b[38;5;124;43m\"\u001b[39;49m\u001b[43m]\u001b[49m\u001b[43m,\u001b[49m\n\u001b[1;32m   1164\u001b[0m \u001b[43m    \u001b[49m\u001b[38;5;28;43mself\u001b[39;49m\u001b[38;5;241;43m.\u001b[39;49m\u001b[43mget_parent\u001b[49m\u001b[43m(\u001b[49m\u001b[38;5;124;43m\"\u001b[39;49m\u001b[38;5;124;43mshell\u001b[39;49m\u001b[38;5;124;43m\"\u001b[39;49m\u001b[43m)\u001b[49m\u001b[43m,\u001b[49m\n\u001b[1;32m   1165\u001b[0m \u001b[43m    \u001b[49m\u001b[43mpassword\u001b[49m\u001b[38;5;241;43m=\u001b[39;49m\u001b[38;5;28;43;01mFalse\u001b[39;49;00m\u001b[43m,\u001b[49m\n\u001b[1;32m   1166\u001b[0m \u001b[43m\u001b[49m\u001b[43m)\u001b[49m\n",
      "File \u001b[0;32m~/anaconda3/envs/nbgrader2/lib/python3.10/site-packages/ipykernel/kernelbase.py:1205\u001b[0m, in \u001b[0;36mKernel._input_request\u001b[0;34m(self, prompt, ident, parent, password)\u001b[0m\n\u001b[1;32m   1202\u001b[0m             \u001b[38;5;28;01mbreak\u001b[39;00m\n\u001b[1;32m   1203\u001b[0m \u001b[38;5;28;01mexcept\u001b[39;00m \u001b[38;5;167;01mKeyboardInterrupt\u001b[39;00m:\n\u001b[1;32m   1204\u001b[0m     \u001b[38;5;66;03m# re-raise KeyboardInterrupt, to truncate traceback\u001b[39;00m\n\u001b[0;32m-> 1205\u001b[0m     \u001b[38;5;28;01mraise\u001b[39;00m \u001b[38;5;167;01mKeyboardInterrupt\u001b[39;00m(\u001b[38;5;124m\"\u001b[39m\u001b[38;5;124mInterrupted by user\u001b[39m\u001b[38;5;124m\"\u001b[39m) \u001b[38;5;28;01mfrom\u001b[39;00m \u001b[38;5;28mNone\u001b[39m\n\u001b[1;32m   1206\u001b[0m \u001b[38;5;28;01mexcept\u001b[39;00m \u001b[38;5;167;01mException\u001b[39;00m:\n\u001b[1;32m   1207\u001b[0m     \u001b[38;5;28mself\u001b[39m\u001b[38;5;241m.\u001b[39mlog\u001b[38;5;241m.\u001b[39mwarning(\u001b[38;5;124m\"\u001b[39m\u001b[38;5;124mInvalid Message:\u001b[39m\u001b[38;5;124m\"\u001b[39m, exc_info\u001b[38;5;241m=\u001b[39m\u001b[38;5;28;01mTrue\u001b[39;00m)\n",
      "\u001b[0;31mKeyboardInterrupt\u001b[0m: Interrupted by user"
     ]
    }
   ],
   "source": [
    "import random\n",
    "# This program implements a guessing game where numbers are\n",
    "# read in from the user in order to guess an answer known to the\n",
    "# computer\n",
    "\n",
    "# First set the answer to be a random number between 0 and 100\n",
    "answer = random.randint(0, 100)\n",
    "\n",
    "# Explain in words what the user needs to do:\n",
    "print(\"Guess a number between 0 and 100 - I only stop when you get it right!\")\n",
    "\n",
    "# Start a while loop which only exits if the user guesses the number correctly\n",
    "while True:\n",
    "    # This line reads in a guess from the user:\n",
    "    guess = int(input(\">\"))\n",
    "    # Next see whether the guess is too small, too large or right:\n",
    "    if guess < answer:\n",
    "        print(\"Higher\")\n",
    "    elif guess > answer:\n",
    "        print(\"Lower\")\n",
    "    else:\n",
    "        # If we get here the answer is right\n",
    "        print(\"Correct! Congratulations.\")\n",
    "        # If the answer is right exit the loop\n",
    "        break\n",
    "print(\"Come back and play again soon!\")"
   ]
  },
  {
   "cell_type": "markdown",
   "id": "5bc639e2",
   "metadata": {},
   "source": [
    "`Break` statements can also be used in `for` loops. They are often used when you are searching for an object with some property, and there is no reason to keep doing work once you have found it."
   ]
  },
  {
   "cell_type": "code",
   "execution_count": 5,
   "id": "838949c4",
   "metadata": {},
   "outputs": [
    {
     "name": "stdout",
     "output_type": "stream",
     "text": [
      "the first multiple of 47 between 100 and 200 is 141\n"
     ]
    }
   ],
   "source": [
    "# Sets i to be the first integer between 100 and 200 which is divisible by 47.\n",
    "# There are better ways of doing this!\n",
    "\n",
    "for i in range(100, 201):\n",
    "    if i % 47 == 0:\n",
    "        # if we break now, the variable i will keep its current value\n",
    "        break\n",
    "\n",
    "print(f\"the first multiple of 47 between 100 and 200 is {i}\")"
   ]
  },
  {
   "cell_type": "markdown",
   "id": "d6bc0608",
   "metadata": {},
   "source": [
    "The other standard way of breaking loops applies if the loop is contained in a function. Since a `return` statement immediately stops the function from being run and returns the control flow to where it was called from, it also breaks out of any loop in the function."
   ]
  }
 ],
 "metadata": {
  "kernelspec": {
   "display_name": "Python 3",
   "language": "python",
   "name": "python3"
  },
  "language_info": {
   "codemirror_mode": {
    "name": "ipython",
    "version": 3
   },
   "file_extension": ".py",
   "mimetype": "text/x-python",
   "name": "python",
   "nbconvert_exporter": "python",
   "pygments_lexer": "ipython3",
   "version": "3.10.4"
  },
  "toc": {
   "base_numbering": 1,
   "nav_menu": {},
   "number_sections": false,
   "sideBar": true,
   "skip_h1_title": false,
   "title_cell": "Table of Contents",
   "title_sidebar": "Contents",
   "toc_cell": false,
   "toc_position": {},
   "toc_section_display": true,
   "toc_window_display": true
  },
  "varInspector": {
   "cols": {
    "lenName": 16,
    "lenType": 16,
    "lenVar": 40
   },
   "kernels_config": {
    "python": {
     "delete_cmd_postfix": "",
     "delete_cmd_prefix": "del ",
     "library": "var_list.py",
     "varRefreshCmd": "print(var_dic_list())"
    },
    "r": {
     "delete_cmd_postfix": ") ",
     "delete_cmd_prefix": "rm(",
     "library": "var_list.r",
     "varRefreshCmd": "cat(var_dic_list()) "
    }
   },
   "types_to_exclude": [
    "module",
    "function",
    "builtin_function_or_method",
    "instance",
    "_Feature"
   ],
   "window_display": false
  }
 },
 "nbformat": 4,
 "nbformat_minor": 5
}
