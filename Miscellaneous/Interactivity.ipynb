{
 "cells": [
  {
   "cell_type": "markdown",
   "id": "2ffa9a2f",
   "metadata": {},
   "source": [
    "# Interactivity\n",
    "\n",
    "Jupyter Notebooks are excellent ways of communicating code and results. One of the nice features that makes them stand out in this regard is how easy it is to embed interactive \"widgets\" into the notebook.\n",
    "\n",
    "This is easiest seen by example."
   ]
  },
  {
   "cell_type": "code",
   "execution_count": null,
   "id": "eaf574d2",
   "metadata": {},
   "outputs": [],
   "source": [
    "from ipywidgets import interact,interactive\n",
    "import numpy as np\n",
    "\n",
    "def f(x):\n",
    "    print(f\"x\\u00b2 = {x**2}\")\n",
    "    return \n",
    "\n",
    "interact(f, x=(0.0, 10.0));"
   ]
  },
  {
   "cell_type": "markdown",
   "id": "69890634",
   "metadata": {},
   "source": [
    "The idea is to provide a function which produces an output for each value of the slider. Here's a more interesting example, where we plot a phase-plane for different values of a parameter $k$. This ODE arises from a population model for spruce budworm, outbreaks of which have caused major deforestation in North America."
   ]
  },
  {
   "cell_type": "code",
   "execution_count": null,
   "id": "447d8b43",
   "metadata": {},
   "outputs": [],
   "source": [
    "%matplotlib inline\n",
    "# interactive plots work better \"inline\" rather than as \"notebook\" figures\n",
    "\n",
    "import matplotlib.pyplot as plt\n",
    "from ipywidgets import fixed\n",
    "\n",
    "\n",
    "def vec_field(X, Y, r, k, c, a):\n",
    "    U = np.ones((len(X), len(Y))) # the flow of time\n",
    "    V = r*(1 - Y/k) * Y - c * Y**2/(a + Y**2) # the population change\n",
    "    return U, V\n",
    "    \n",
    "x = np.linspace(0, 10, 100)\n",
    "y = np.linspace(0, 10, 100) \n",
    "X, Y = np.meshgrid(x, y)\n",
    "\n",
    "# interact will start with the \n",
    "def phase_plane(r = 0.3, k = 10, c = 1, a = 0.02):\n",
    "    fig, ax = plt.subplots()\n",
    "    U, V = vec_field(X, Y, r, k, c, a)\n",
    "    ax.streamplot(X, Y, U, V)\n",
    "    plt.title(f'Spruce budworm population with r={r}, k={k}')\n",
    "    plt.xlabel('time')\n",
    "    plt.ylabel('population')\n",
    "    plt.show()\n",
    "\n",
    "# Investigate \"continuous_update\" in the documentation linked below\n",
    "# to avoid the plots lagging as the slider is dragged!\n",
    "interactive(phase_plane,\n",
    "            r = (0.2, 1.0),\n",
    "            k = (8.0, 12.0),\n",
    "            c = fixed(1),     # used \"fixed\" so there are no sliders for c or a\n",
    "            a = fixed(0.02))"
   ]
  },
  {
   "cell_type": "markdown",
   "id": "58678d45",
   "metadata": {},
   "source": [
    "We have only shown a small number of the interactivity features in Jupyter Notebooks. More details on the `interact` function can be found [here](https://ipywidgets.readthedocs.io/en/stable/examples/Using%20Interact.html). Note that `ipywidgets` only work in Jupyter Notebooks, and not in other Python environments. More complex interactivity is possible using the other functions from the `ipywidgets` module, which we leave you to investigate for yourself if interested.\n",
    "\n",
    "Similar interactive plots can be produced outside Jupyter Notebooks; the easiest way is through `matplotlib` widgets."
   ]
  }
 ],
 "metadata": {
  "kernelspec": {
   "display_name": "Python 3",
   "language": "python",
   "name": "python3"
  },
  "language_info": {
   "codemirror_mode": {
    "name": "ipython",
    "version": 3
   },
   "file_extension": ".py",
   "mimetype": "text/x-python",
   "name": "python",
   "nbconvert_exporter": "python",
   "pygments_lexer": "ipython3",
   "version": "3.10.4"
  },
  "toc": {
   "base_numbering": 1,
   "nav_menu": {},
   "number_sections": false,
   "sideBar": true,
   "skip_h1_title": false,
   "title_cell": "Table of Contents",
   "title_sidebar": "Contents",
   "toc_cell": false,
   "toc_position": {},
   "toc_section_display": true,
   "toc_window_display": true
  },
  "varInspector": {
   "cols": {
    "lenName": 16,
    "lenType": 16,
    "lenVar": 40
   },
   "kernels_config": {
    "python": {
     "delete_cmd_postfix": "",
     "delete_cmd_prefix": "del ",
     "library": "var_list.py",
     "varRefreshCmd": "print(var_dic_list())"
    },
    "r": {
     "delete_cmd_postfix": ") ",
     "delete_cmd_prefix": "rm(",
     "library": "var_list.r",
     "varRefreshCmd": "cat(var_dic_list()) "
    }
   },
   "types_to_exclude": [
    "module",
    "function",
    "builtin_function_or_method",
    "instance",
    "_Feature"
   ],
   "window_display": false
  }
 },
 "nbformat": 4,
 "nbformat_minor": 5
}
