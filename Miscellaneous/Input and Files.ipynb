{
 "cells": [
  {
   "cell_type": "markdown",
   "id": "23bd9ad3",
   "metadata": {},
   "source": [
    "# Input and files\n",
    "\n",
    "Very often, we want to work with data that has already been collected or generated elsewhere. This might take the form of data from online surveys, or acoustic monitoring sensors, or perhaps the results of intensive fluid-dynamics simulations carried out on huge remote clusters of computers. There are a vast number of possible formats for data, and ways of reading it into Python, so we will focus only on the simplest."
   ]
  },
  {
   "cell_type": "markdown",
   "id": "21398e56",
   "metadata": {},
   "source": [
    "# `CSV` files\n",
    "\n",
    "A *comma-separated value* (csv) file contains the data in a simple form: each line of the file contains a number of values, separated by commas. Often the first line consists of *headers* (i.e. bits of text describing each column of data). \n",
    "\n",
    "As an example, the file `data/strathkiness-rainfall.csv` consists of daily rainfall data for Strathkinness (near St Andrews), between August 1st 2020 and August 23rd 2021. This data is published by SEPA under the Open Government License v3.0; you can find the most recent rainfall data [here](https://www2.sepa.org.uk/rainfall/data/index/11368). The first few lines of that file look like this:\n",
    "\n",
    "    Timestamp,Value\n",
    "    01/08/2020 09:00:00,0.2\n",
    "    02/08/2020 09:00:00,0.0\n",
    "    03/08/2020 09:00:00,2.0\n",
    "\n",
    "This has two columns: `Timestamp`, the day the data is for, and `Value`, the total daily rainfall (in millimetres). "
   ]
  },
  {
   "cell_type": "markdown",
   "id": "208aa18b",
   "metadata": {},
   "source": [
    "## Using `csv`:\n",
    "We could read the rainfall data into Python like so:"
   ]
  },
  {
   "cell_type": "code",
   "execution_count": null,
   "id": "13448b91",
   "metadata": {},
   "outputs": [],
   "source": [
    "# we can use the csv module to read csv files\n",
    "import csv\n",
    "\n",
    "# \n",
    "with open('data/strathkiness-rainfall.csv', newline='') as csvfile:\n",
    "    # Create a \"reader\" object to do the reading.\n",
    "    # You *can* use things other than commas in csv files, so we have to \n",
    "    # tell the reader that the value separator is a comma here.\n",
    "    reader = csv.reader(csvfile, delimiter=',')\n",
    "    rain_data = list(reader)  # convert the data to a list\n",
    "\n",
    "rain_data"
   ]
  },
  {
   "cell_type": "markdown",
   "id": "181b7886",
   "metadata": {},
   "source": [
    "Note that this has read in all of the data as strings, and has included the headers. We could get rid of the headers by slicing the list (`rain_data = rain_data[1:]`), and we could convert the values to floats by using `float`. Here's how we might do both simultaneously using list comprehension:"
   ]
  },
  {
   "cell_type": "code",
   "execution_count": null,
   "id": "c9856b88",
   "metadata": {},
   "outputs": [],
   "source": [
    "rain_data = [[x[0], float(x[1])] for x in rain_data[1:]]"
   ]
  },
  {
   "cell_type": "markdown",
   "id": "880b7dd7",
   "metadata": {},
   "source": [
    "Note that this has left the timestamp as a string. Python does have the ability to work directly with so called `datetimes`, but we leave this out for simplicity."
   ]
  },
  {
   "cell_type": "markdown",
   "id": "1087e0bd",
   "metadata": {},
   "source": [
    "## Using `pandas`\n",
    "\n",
    "If you are planning to do statistical analysis on your data, you are likely to want to import it into a \"dataframe\" using `pandas` instead:"
   ]
  },
  {
   "cell_type": "code",
   "execution_count": null,
   "id": "306a31cd",
   "metadata": {},
   "outputs": [],
   "source": [
    "import pandas as pd\n",
    "\n",
    "rain_data2 = pd.read_csv(\"data/strathkiness-rainfall.csv\")\n",
    "rain_data2"
   ]
  },
  {
   "cell_type": "markdown",
   "id": "05df9f08",
   "metadata": {},
   "source": [
    "Note that this is stored in a dataframe object, rather than a list. You could extract the values out of the dataframe object like so: "
   ]
  },
  {
   "cell_type": "code",
   "execution_count": null,
   "id": "05e91b38",
   "metadata": {},
   "outputs": [],
   "source": [
    "rain_data2.values"
   ]
  },
  {
   "cell_type": "markdown",
   "id": "b24b2d89",
   "metadata": {},
   "source": [
    "Note that `pandas` has automatically converted the second column to `float`. This makes `pandas` a convenient way of reading in `csv` files even if you don't plan to use any other `pandas` features.\n",
    "\n",
    "After manipulating the data using `pandas`, you might want to write the dataframe back to a `csv` file."
   ]
  },
  {
   "cell_type": "code",
   "execution_count": null,
   "id": "b0470d50",
   "metadata": {},
   "outputs": [],
   "source": [
    "# rain_data2.to_csv(\"data/processed-rainfall-data.csv\")"
   ]
  },
  {
   "cell_type": "markdown",
   "id": "e2a15a9c",
   "metadata": {},
   "source": [
    "# `Numpy` input and output"
   ]
  },
  {
   "cell_type": "markdown",
   "id": "69b900bb",
   "metadata": {},
   "source": [
    "Often the data we want to read or write to a file comes in the form of a `numpy` array. For example, after computing the values of a function on a large and high-resolution mesh, you might want to avoid recomputing them. The example below doesn't take long to compute, but it will take a lot longer if the number of points in the `linspace` increases significantly."
   ]
  },
  {
   "cell_type": "code",
   "execution_count": null,
   "id": "1690d941",
   "metadata": {
    "run_control": {
     "marked": false
    }
   },
   "outputs": [],
   "source": [
    "import numpy as np\n",
    "\n",
    "X = Y = np.linspace(0, 10, 500)\n",
    "X, Y = np.meshgrid(X, Y)\n",
    "Z = 3 * X**2 * Y**3 + 27 * X\n",
    "\n",
    "# now that we've computed these values, we can save them:\n",
    "np.savetxt(\"data/Z.txt\", Z)\n",
    "\n",
    "# If there is a lot of data, you might want to save a compressed file instead.\n",
    "# Just add \".gz\" to the end of the file name\n",
    "# np.savetxt(\"data/Z.txt.gz\", Z)"
   ]
  },
  {
   "cell_type": "markdown",
   "id": "011ac353",
   "metadata": {},
   "source": [
    "Now that we've saved the files, we can easily load them in at any later point:"
   ]
  },
  {
   "cell_type": "code",
   "execution_count": null,
   "id": "e8d84045",
   "metadata": {},
   "outputs": [],
   "source": [
    "X = Y = np.linspace(0, 10, 500)\n",
    "X, Y = np.meshgrid(X, Y)\n",
    "Z = np.loadtxt(\"data/Z.txt\")"
   ]
  }
 ],
 "metadata": {
  "kernelspec": {
   "display_name": "Python 3",
   "language": "python",
   "name": "python3"
  },
  "language_info": {
   "codemirror_mode": {
    "name": "ipython",
    "version": 3
   },
   "file_extension": ".py",
   "mimetype": "text/x-python",
   "name": "python",
   "nbconvert_exporter": "python",
   "pygments_lexer": "ipython3",
   "version": "3.10.4"
  },
  "toc": {
   "base_numbering": 1,
   "nav_menu": {},
   "number_sections": false,
   "sideBar": true,
   "skip_h1_title": false,
   "title_cell": "Table of Contents",
   "title_sidebar": "Contents",
   "toc_cell": false,
   "toc_position": {},
   "toc_section_display": true,
   "toc_window_display": true
  },
  "varInspector": {
   "cols": {
    "lenName": 16,
    "lenType": 16,
    "lenVar": 40
   },
   "kernels_config": {
    "python": {
     "delete_cmd_postfix": "",
     "delete_cmd_prefix": "del ",
     "library": "var_list.py",
     "varRefreshCmd": "print(var_dic_list())"
    },
    "r": {
     "delete_cmd_postfix": ") ",
     "delete_cmd_prefix": "rm(",
     "library": "var_list.r",
     "varRefreshCmd": "cat(var_dic_list()) "
    }
   },
   "types_to_exclude": [
    "module",
    "function",
    "builtin_function_or_method",
    "instance",
    "_Feature"
   ],
   "window_display": false
  }
 },
 "nbformat": 4,
 "nbformat_minor": 5
}
