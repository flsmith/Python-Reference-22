{
 "cells": [
  {
   "cell_type": "markdown",
   "id": "9058336a",
   "metadata": {},
   "source": [
    "# SymPy\n",
    "\n",
    "Up until this point, we have worked with \"non-symbolic\" Python features. For example, if we set $x = 1$ and then $y = x$, the apparent relationship between $x$ and $y$ disappears when we change $x$."
   ]
  },
  {
   "cell_type": "code",
   "execution_count": 1,
   "id": "509c697b",
   "metadata": {},
   "outputs": [
    {
     "data": {
      "text/plain": [
       "False"
      ]
     },
     "execution_count": 1,
     "metadata": {},
     "output_type": "execute_result"
    }
   ],
   "source": [
    "x = 1\n",
    "y = x\n",
    "x = 2\n",
    "y == x"
   ]
  },
  {
   "cell_type": "markdown",
   "id": "073905da",
   "metadata": {},
   "source": [
    "This is because we are working with values for $x$ and $y$, rather than the symbols $x$ and $y$ themselves - i.e. we are doing arithmetic rather than algebra. The module `SymPy` is Python's *Computer Algebra System* (CAS). You might have used other CASs like *Maple* or *Mathematica*; `SymPy` has the major advantage of being free and open source. It has less features than the commercial packages, but is steadily growing.\n",
    "\n",
    "First we will import `sympy`, and use `init_printing` to get SymPy to output maths nicely using LaTeX - this is optional."
   ]
  },
  {
   "cell_type": "code",
   "execution_count": 2,
   "id": "ce1b0559",
   "metadata": {},
   "outputs": [],
   "source": [
    "import sympy as sym\n",
    "sym.init_printing()"
   ]
  },
  {
   "cell_type": "markdown",
   "id": "2291c034",
   "metadata": {},
   "source": [
    "# Creating symbols\n",
    "\n",
    "To create \"symbols\" to manipulate, use `sym.symbols`. Note that it takes a `tuple` of strings."
   ]
  },
  {
   "cell_type": "code",
   "execution_count": 3,
   "id": "3cde4500",
   "metadata": {},
   "outputs": [],
   "source": [
    "x, y, z = sym.symbols((\"x\", \"y\", \"z\"))"
   ]
  },
  {
   "cell_type": "markdown",
   "id": "ccbc5c7b",
   "metadata": {},
   "source": [
    "It's worth noting that your variable names can be different from the names that `SymPy` stores for the symbols:"
   ]
  },
  {
   "cell_type": "code",
   "execution_count": 4,
   "id": "4b2e63fa",
   "metadata": {},
   "outputs": [
    {
     "data": {
      "image/png": "[encoded data removed]",
      "text/latex": [
       "$\\displaystyle x_{0}$"
      ],
      "text/plain": [
       "x₀"
      ]
     },
     "execution_count": 4,
     "metadata": {},
     "output_type": "execute_result"
    }
   ],
   "source": [
    "# This is a recipe for confusion - you better have a good reason to do it!\n",
    "u, v = sym.symbols((\"s\", \"t\"))\n",
    "\n",
    "# This is a more reasonable thing to do\n",
    "x0 = sym.symbols((\"x_0\"))\n",
    "x0"
   ]
  },
  {
   "cell_type": "markdown",
   "id": "4106f132",
   "metadata": {},
   "source": [
    "If you know that you are only interested in real values of the variables, use `real=True` when creating it. There are other assumptions you can put on symbols (like being positive) - see [here](https://docs.sympy.org/latest/guides/assumptions.html#assumptions) for a guide."
   ]
  },
  {
   "cell_type": "code",
   "execution_count": 5,
   "id": "034742e1",
   "metadata": {},
   "outputs": [],
   "source": [
    "s = sym.symbols(\"s\", real=True)"
   ]
  },
  {
   "cell_type": "markdown",
   "id": "7434ad1a",
   "metadata": {},
   "source": [
    "# Expressions and substitution\n",
    "\n",
    "We can use symbols to create expressions, mostly using the same syntax as for regular Python variables:"
   ]
  },
  {
   "cell_type": "code",
   "execution_count": 6,
   "id": "0eca7126",
   "metadata": {},
   "outputs": [
    {
     "data": {
      "image/png": "[encoded data removed]",
      "text/latex": [
       "$\\displaystyle \\frac{3 \\left(x + y\\right)^{2} e^{x y}}{\\log{\\left(z \\right)}}$"
      ],
      "text/plain": [
       "         2  x⋅y\n",
       "3⋅(x + y) ⋅ℯ   \n",
       "───────────────\n",
       "     log(z)    "
      ]
     },
     "execution_count": 6,
     "metadata": {},
     "output_type": "execute_result"
    }
   ],
   "source": [
    "(3 * (x + y)**2 * sym.exp(x*y))/sym.log(z)"
   ]
  },
  {
   "cell_type": "markdown",
   "id": "b3c727cb",
   "metadata": {},
   "source": [
    "Note that we used the `SymPy` version of `exp` and `log`, rather than the `numpy` version. ***This is important - the numpy version simply will not work***. This is because `numpy.exp` expects a number (or an array of numbers), rather than a symbol. There are `SymPy` equivalents of most of the standard mathematical functions you would use in `numpy`."
   ]
  },
  {
   "cell_type": "markdown",
   "id": "f697840a",
   "metadata": {},
   "source": [
    "Let's assign this expression to a variable:"
   ]
  },
  {
   "cell_type": "code",
   "execution_count": 7,
   "id": "c49e53d0",
   "metadata": {},
   "outputs": [
    {
     "data": {
      "image/png": "[encoded data removed]",
      "text/latex": [
       "$\\displaystyle \\frac{3 \\left(x + y\\right)^{2} e^{x y}}{\\log{\\left(z \\right)}}$"
      ],
      "text/plain": [
       "         2  x⋅y\n",
       "3⋅(x + y) ⋅ℯ   \n",
       "───────────────\n",
       "     log(z)    "
      ]
     },
     "execution_count": 7,
     "metadata": {},
     "output_type": "execute_result"
    }
   ],
   "source": [
    "V = (3 * (x + y)**2 * sym.exp(x*y))/sym.log(z)\n",
    "\n",
    "V"
   ]
  },
  {
   "cell_type": "markdown",
   "id": "8e4ef59f",
   "metadata": {},
   "source": [
    "`V` looks like a function of three variables, but it is ***not a Python function***, which is why we cannot \"call\" it with three arguments:"
   ]
  },
  {
   "cell_type": "code",
   "execution_count": 8,
   "id": "78dcc185",
   "metadata": {},
   "outputs": [
    {
     "ename": "TypeError",
     "evalue": "'Mul' object is not callable",
     "output_type": "error",
     "traceback": [
      "\u001b[0;31m---------------------------------------------------------------------------\u001b[0m",
      "\u001b[0;31mTypeError\u001b[0m                                 Traceback (most recent call last)",
      "Input \u001b[0;32mIn [8]\u001b[0m, in \u001b[0;36m<cell line: 1>\u001b[0;34m()\u001b[0m\n\u001b[0;32m----> 1\u001b[0m \u001b[43mV\u001b[49m\u001b[43m(\u001b[49m\u001b[38;5;241;43m0\u001b[39;49m\u001b[43m,\u001b[49m\u001b[43m \u001b[49m\u001b[38;5;241;43m1\u001b[39;49m\u001b[43m,\u001b[49m\u001b[43m \u001b[49m\u001b[38;5;241;43m2\u001b[39;49m\u001b[43m)\u001b[49m\n",
      "\u001b[0;31mTypeError\u001b[0m: 'Mul' object is not callable"
     ]
    }
   ],
   "source": [
    "V(0, 1, 2)"
   ]
  },
  {
   "cell_type": "markdown",
   "id": "a324251c",
   "metadata": {},
   "source": [
    "Instead, we should \"substitute\" values for $x$, $y$, and $z$ like so:"
   ]
  },
  {
   "cell_type": "code",
   "execution_count": 9,
   "id": "1a4113f3",
   "metadata": {},
   "outputs": [
    {
     "data": {
      "image/png": "[encoded data removed]",
      "text/latex": [
       "$\\displaystyle \\frac{3 \\left(y + 2\\right)^{2} e^{2 y}}{\\log{\\left(z \\right)}}$"
      ],
      "text/plain": [
       "         2  2⋅y\n",
       "3⋅(y + 2) ⋅ℯ   \n",
       "───────────────\n",
       "     log(z)    "
      ]
     },
     "execution_count": 9,
     "metadata": {},
     "output_type": "execute_result"
    }
   ],
   "source": [
    "V.subs(x, 2)"
   ]
  },
  {
   "cell_type": "markdown",
   "id": "9f54cd3f",
   "metadata": {},
   "source": [
    "Note that this has not changed `V` itself - it has simply returned a new expression where $x$ has been replaced with $2$."
   ]
  },
  {
   "cell_type": "code",
   "execution_count": 10,
   "id": "16e89a83",
   "metadata": {},
   "outputs": [
    {
     "data": {
      "image/png": "[encoded data removed]",
      "text/latex": [
       "$\\displaystyle \\frac{3 \\left(x + y\\right)^{2} e^{x y}}{\\log{\\left(z \\right)}}$"
      ],
      "text/plain": [
       "         2  x⋅y\n",
       "3⋅(x + y) ⋅ℯ   \n",
       "───────────────\n",
       "     log(z)    "
      ]
     },
     "execution_count": 10,
     "metadata": {},
     "output_type": "execute_result"
    }
   ],
   "source": [
    "V"
   ]
  },
  {
   "cell_type": "markdown",
   "id": "0d657a31",
   "metadata": {},
   "source": [
    "To substitute multiple values, pass a `list` of `(symbol, replacement)` pairs:"
   ]
  },
  {
   "cell_type": "code",
   "execution_count": 11,
   "id": "8d6487f7",
   "metadata": {},
   "outputs": [
    {
     "data": {
      "image/png": "[encoded data removed]",
      "text/latex": [
       "$\\displaystyle \\frac{75 e^{6}}{\\log{\\left(2 \\right)}}$"
      ],
      "text/plain": [
       "    6 \n",
       "75⋅ℯ  \n",
       "──────\n",
       "log(2)"
      ]
     },
     "execution_count": 11,
     "metadata": {},
     "output_type": "execute_result"
    }
   ],
   "source": [
    "V.subs([(x, 2), (y, 3), (z, 2)])"
   ]
  },
  {
   "cell_type": "markdown",
   "id": "544e5430",
   "metadata": {},
   "source": [
    "We are not restricted to substituting in numbers. Suppose that we have a parameterisation $x = \\sin(u)$, $y = \\cos(u)$ for $u \\in [0, 2\\pi)$. We could make these substitutions like so:"
   ]
  },
  {
   "cell_type": "code",
   "execution_count": 12,
   "id": "65c67fac",
   "metadata": {},
   "outputs": [
    {
     "ename": "TypeError",
     "evalue": "'Symbol' object is not subscriptable",
     "output_type": "error",
     "traceback": [
      "\u001b[0;31m---------------------------------------------------------------------------\u001b[0m",
      "\u001b[0;31mTypeError\u001b[0m                                 Traceback (most recent call last)",
      "Input \u001b[0;32mIn [12]\u001b[0m, in \u001b[0;36m<cell line: 3>\u001b[0;34m()\u001b[0m\n\u001b[1;32m      1\u001b[0m u \u001b[38;5;241m=\u001b[39m sym\u001b[38;5;241m.\u001b[39msymbols(\u001b[38;5;124m\"\u001b[39m\u001b[38;5;124mu\u001b[39m\u001b[38;5;124m\"\u001b[39m)\n\u001b[0;32m----> 3\u001b[0m \u001b[43mV\u001b[49m\u001b[38;5;241;43m.\u001b[39;49m\u001b[43msubs\u001b[49m\u001b[43m(\u001b[49m\u001b[43m[\u001b[49m\u001b[43mx\u001b[49m\u001b[43m,\u001b[49m\u001b[43m \u001b[49m\u001b[43msym\u001b[49m\u001b[38;5;241;43m.\u001b[39;49m\u001b[43msin\u001b[49m\u001b[43m(\u001b[49m\u001b[43mu\u001b[49m\u001b[43m)\u001b[49m\u001b[43m]\u001b[49m\u001b[43m)\u001b[49m\n",
      "File \u001b[0;32m~/anaconda3/envs/nbgrader2/lib/python3.10/site-packages/sympy/core/basic.py:933\u001b[0m, in \u001b[0;36mBasic.subs\u001b[0;34m(self, *args, **kwargs)\u001b[0m\n\u001b[1;32m    931\u001b[0m sequence \u001b[38;5;241m=\u001b[39m \u001b[38;5;28mlist\u001b[39m(sequence)\n\u001b[1;32m    932\u001b[0m \u001b[38;5;28;01mfor\u001b[39;00m i, s \u001b[38;5;129;01min\u001b[39;00m \u001b[38;5;28menumerate\u001b[39m(sequence):\n\u001b[0;32m--> 933\u001b[0m     \u001b[38;5;28;01mif\u001b[39;00m \u001b[38;5;28misinstance\u001b[39m(\u001b[43ms\u001b[49m\u001b[43m[\u001b[49m\u001b[38;5;241;43m0\u001b[39;49m\u001b[43m]\u001b[49m, \u001b[38;5;28mstr\u001b[39m):\n\u001b[1;32m    934\u001b[0m         \u001b[38;5;66;03m# when old is a string we prefer Symbol\u001b[39;00m\n\u001b[1;32m    935\u001b[0m         s \u001b[38;5;241m=\u001b[39m Symbol(s[\u001b[38;5;241m0\u001b[39m]), s[\u001b[38;5;241m1\u001b[39m]\n\u001b[1;32m    936\u001b[0m     \u001b[38;5;28;01mtry\u001b[39;00m:\n",
      "\u001b[0;31mTypeError\u001b[0m: 'Symbol' object is not subscriptable"
     ]
    }
   ],
   "source": [
    "u = sym.symbols(\"u\")\n",
    "\n",
    "V.subs([x, sym.sin(u)])"
   ]
  },
  {
   "cell_type": "markdown",
   "id": "a2a0ac2d",
   "metadata": {},
   "source": [
    "# Evaluation\n",
    "\n",
    "Note that the expression above is still being stored as a symbolic expression rather than as a float, which helps to avoid rounding errors and the other perils associated with floats. If you really want a float, use `evalf`, providing it with a `dict` of `symbol : value` pairs."
   ]
  },
  {
   "cell_type": "code",
   "execution_count": 13,
   "id": "e333b131",
   "metadata": {},
   "outputs": [
    {
     "data": {
      "image/png": "[encoded data removed]",
      "text/latex": [
       "$\\displaystyle 43651.8539792840004233487953938$"
      ],
      "text/plain": [
       "43651.8539792840004233487953938"
      ]
     },
     "execution_count": 13,
     "metadata": {},
     "output_type": "execute_result"
    }
   ],
   "source": [
    "# The first argument to evalf controls how precise the output is.\n",
    "# The default is 15 places.\n",
    "\n",
    "V.evalf(30, subs={x: 2, y: 3, z: 2})"
   ]
  },
  {
   "cell_type": "markdown",
   "id": "0255b969",
   "metadata": {},
   "source": [
    "# Exact values\n",
    "\n",
    "When creating expressions, we want to avoid floats when possible. In the following example, we try to create the exact expression $\\frac{8}{3}x$ but instead get a rounded float coefficient. This is because the fraction $8/3$ is evaluated by Python before `SymPy` can get involved."
   ]
  },
  {
   "cell_type": "code",
   "execution_count": 14,
   "id": "b4cddaf1",
   "metadata": {},
   "outputs": [
    {
     "data": {
      "image/png": "[encoded data removed]",
      "text/latex": [
       "$\\displaystyle 2.66666666666667 x$"
      ],
      "text/plain": [
       "2.66666666666667⋅x"
      ]
     },
     "execution_count": 14,
     "metadata": {},
     "output_type": "execute_result"
    }
   ],
   "source": [
    "8/3 * x"
   ]
  },
  {
   "cell_type": "markdown",
   "id": "54bca005",
   "metadata": {},
   "source": [
    "There are several ways of avoiding this: you can create the fraction as a `Rational` number:"
   ]
  },
  {
   "cell_type": "code",
   "execution_count": 15,
   "id": "ffd107b2",
   "metadata": {},
   "outputs": [
    {
     "data": {
      "image/png": "[encoded data removed]",
      "text/latex": [
       "$\\displaystyle \\frac{8 x}{3}$"
      ],
      "text/plain": [
       "8⋅x\n",
       "───\n",
       " 3 "
      ]
     },
     "execution_count": 15,
     "metadata": {},
     "output_type": "execute_result"
    }
   ],
   "source": [
    "from sympy import Rational\n",
    "\n",
    "u = Rational(8, 3) * x\n",
    "u"
   ]
  },
  {
   "cell_type": "markdown",
   "id": "7013e636",
   "metadata": {},
   "source": [
    "Alternatively, you can \"split up\" your fraction like so:"
   ]
  },
  {
   "cell_type": "code",
   "execution_count": 16,
   "id": "bebfaf0f",
   "metadata": {},
   "outputs": [
    {
     "data": {
      "image/png": "[encoded data removed]",
      "text/latex": [
       "$\\displaystyle \\frac{8 x}{3}$"
      ],
      "text/plain": [
       "8⋅x\n",
       "───\n",
       " 3 "
      ]
     },
     "execution_count": 16,
     "metadata": {},
     "output_type": "execute_result"
    }
   ],
   "source": [
    "u = 8 * x / 3\n",
    "u"
   ]
  },
  {
   "cell_type": "markdown",
   "id": "853905d0",
   "metadata": {},
   "source": [
    "The same is true of roots: instead of doing"
   ]
  },
  {
   "cell_type": "code",
   "execution_count": 17,
   "id": "0747b18c",
   "metadata": {},
   "outputs": [
    {
     "data": {
      "image/png": "[encoded data removed]",
      "text/latex": [
       "$\\displaystyle x^{0.333333333333333}$"
      ],
      "text/plain": [
       " 0.333333333333333\n",
       "x                 "
      ]
     },
     "execution_count": 17,
     "metadata": {},
     "output_type": "execute_result"
    }
   ],
   "source": [
    "x ** (1/3)"
   ]
  },
  {
   "cell_type": "markdown",
   "id": "ee6bbb9e",
   "metadata": {},
   "source": [
    "You should do"
   ]
  },
  {
   "cell_type": "code",
   "execution_count": 18,
   "id": "f308db9d",
   "metadata": {},
   "outputs": [
    {
     "data": {
      "image/png": "[encoded data removed]",
      "text/latex": [
       "$\\displaystyle \\sqrt[3]{x}$"
      ],
      "text/plain": [
       "3 ___\n",
       "╲╱ x "
      ]
     },
     "execution_count": 18,
     "metadata": {},
     "output_type": "execute_result"
    }
   ],
   "source": [
    "sym.root(x, 3)"
   ]
  },
  {
   "cell_type": "markdown",
   "id": "d0eb886a",
   "metadata": {},
   "source": [
    "# Manipulating expressions "
   ]
  },
  {
   "cell_type": "markdown",
   "id": "f6575e61",
   "metadata": {},
   "source": [
    "`SymPy` comes with the ability to simplify, factorise, and expand expressions. As an example, we will work with the cubic $p = (x-2)(x + 3)(x + 7)$"
   ]
  },
  {
   "cell_type": "code",
   "execution_count": 19,
   "id": "2977b8ec",
   "metadata": {},
   "outputs": [
    {
     "data": {
      "image/png": "[encoded data removed]",
      "text/latex": [
       "$\\displaystyle \\left(x - 2\\right) \\left(x + 3\\right) \\left(x + 7\\right)$"
      ],
      "text/plain": [
       "(x - 2)⋅(x + 3)⋅(x + 7)"
      ]
     },
     "execution_count": 19,
     "metadata": {},
     "output_type": "execute_result"
    }
   ],
   "source": [
    "P = (x - 2) * (x + 3) * (x + 7)\n",
    "P"
   ]
  },
  {
   "cell_type": "code",
   "execution_count": 20,
   "id": "4e4999a9",
   "metadata": {},
   "outputs": [
    {
     "data": {
      "image/png": "[encoded data removed]",
      "text/latex": [
       "$\\displaystyle x^{3} + 8 x^{2} + x - 42$"
      ],
      "text/plain": [
       " 3      2         \n",
       "x  + 8⋅x  + x - 42"
      ]
     },
     "execution_count": 20,
     "metadata": {},
     "output_type": "execute_result"
    }
   ],
   "source": [
    "Q = P.expand()\n",
    "Q"
   ]
  },
  {
   "cell_type": "markdown",
   "id": "a6e2eed5",
   "metadata": {},
   "source": [
    "To go the other way, use `factor`:"
   ]
  },
  {
   "cell_type": "code",
   "execution_count": 21,
   "id": "ccd1784f",
   "metadata": {},
   "outputs": [
    {
     "data": {
      "image/png": "[encoded data removed]",
      "text/latex": [
       "$\\displaystyle \\left(x - 2\\right) \\left(x + 3\\right) \\left(x + 7\\right)$"
      ],
      "text/plain": [
       "(x - 2)⋅(x + 3)⋅(x + 7)"
      ]
     },
     "execution_count": 21,
     "metadata": {},
     "output_type": "execute_result"
    }
   ],
   "source": [
    "Q.factor()"
   ]
  },
  {
   "cell_type": "markdown",
   "id": "7288658b",
   "metadata": {},
   "source": [
    "An interesting feature is that `P == Q` evaluates to `False`. This is because they are not \"structurally\" the same expression, even if they are the same \"algebraic\" expression."
   ]
  },
  {
   "cell_type": "code",
   "execution_count": 22,
   "id": "bf2307ba",
   "metadata": {},
   "outputs": [
    {
     "data": {
      "text/plain": [
       "False"
      ]
     },
     "execution_count": 22,
     "metadata": {},
     "output_type": "execute_result"
    }
   ],
   "source": [
    "P == Q"
   ]
  },
  {
   "cell_type": "markdown",
   "id": "51f22a2e",
   "metadata": {},
   "source": [
    "The same is true of `P - Q == 0`:"
   ]
  },
  {
   "cell_type": "code",
   "execution_count": 23,
   "id": "8f7431a3",
   "metadata": {},
   "outputs": [
    {
     "data": {
      "text/plain": [
       "False"
      ]
     },
     "execution_count": 23,
     "metadata": {},
     "output_type": "execute_result"
    }
   ],
   "source": [
    "P - Q == 0"
   ]
  },
  {
   "cell_type": "markdown",
   "id": "90eebe92",
   "metadata": {},
   "source": [
    "In order to check whether `P` and `Q` represent the same expression, the simplest thing to do is to `simplify` the expression `P - Q` and see whether it is $0$."
   ]
  },
  {
   "cell_type": "code",
   "execution_count": 24,
   "id": "023ea2c3",
   "metadata": {},
   "outputs": [
    {
     "data": {
      "text/plain": [
       "True"
      ]
     },
     "execution_count": 24,
     "metadata": {},
     "output_type": "execute_result"
    }
   ],
   "source": [
    "(P - Q).simplify() == 0"
   ]
  },
  {
   "cell_type": "markdown",
   "id": "24fa3339",
   "metadata": {},
   "source": [
    "Note that in general, it is not clear what is meant by a \"simpler\" expression, so `simplify` may return results you do not expect. It is also *theoretically impossible* for `simplify` to always work out whether an expression is equal to 0, though it will usually manage it for most reasonable expressions."
   ]
  },
  {
   "cell_type": "markdown",
   "id": "28e53381",
   "metadata": {},
   "source": [
    "# Solving equations"
   ]
  },
  {
   "cell_type": "markdown",
   "id": "2b61e386",
   "metadata": {},
   "source": [
    "## One variable\n",
    "\n",
    "To find the roots of an expression, use `solveset`. For example, to find the roots of the polynomial $Q(x) = x^2 - x - 6$:"
   ]
  },
  {
   "cell_type": "code",
   "execution_count": 25,
   "id": "2a681920",
   "metadata": {},
   "outputs": [
    {
     "data": {
      "image/png": "[encoded data removed]",
      "text/latex": [
       "$\\displaystyle \\left\\{-2, 3\\right\\}$"
      ],
      "text/plain": [
       "{-2, 3}"
      ]
     },
     "execution_count": 25,
     "metadata": {},
     "output_type": "execute_result"
    }
   ],
   "source": [
    "Q = x**2 - x - 6\n",
    "\n",
    "sym.solveset(Q)"
   ]
  },
  {
   "cell_type": "markdown",
   "id": "eeceb514",
   "metadata": {},
   "source": [
    "If we don't want roots (i.e. solutions to $Q(x) = 0$) but instead solutions to $Q(x) = a$ for some $a \\in \\mathbb{R}$, simply find the roots of $Q - a$. For example, to get the solutions of $Q(x) = 1$ do:"
   ]
  },
  {
   "cell_type": "code",
   "execution_count": 26,
   "id": "373ed6de",
   "metadata": {},
   "outputs": [
    {
     "data": {
      "image/png": "[encoded data removed]",
      "text/latex": [
       "$\\displaystyle \\left\\{\\frac{1}{2} - \\frac{\\sqrt{29}}{2}, \\frac{1}{2} + \\frac{\\sqrt{29}}{2}\\right\\}$"
      ],
      "text/plain": [
       "⎧1   √29  1   √29⎫\n",
       "⎨─ - ───, ─ + ───⎬\n",
       "⎩2    2   2    2 ⎭"
      ]
     },
     "execution_count": 26,
     "metadata": {},
     "output_type": "execute_result"
    }
   ],
   "source": [
    "sym.solveset(Q - 1)"
   ]
  },
  {
   "cell_type": "markdown",
   "id": "9e5be457",
   "metadata": {},
   "source": [
    "If we're only interested in the real solutions, we can use `domain=sym.Reals`:"
   ]
  },
  {
   "cell_type": "code",
   "execution_count": 27,
   "id": "926dc4b9",
   "metadata": {},
   "outputs": [
    {
     "data": {
      "image/png": "[encoded data removed]",
      "text/latex": [
       "$\\displaystyle \\emptyset$"
      ],
      "text/plain": [
       "∅"
      ]
     },
     "execution_count": 27,
     "metadata": {},
     "output_type": "execute_result"
    }
   ],
   "source": [
    "sym.solveset(Q + 7, domain = sym.Reals)"
   ]
  },
  {
   "cell_type": "markdown",
   "id": "74910cec",
   "metadata": {},
   "source": [
    "Note that `solveset` does not give us the multiplicity of roots:"
   ]
  },
  {
   "cell_type": "code",
   "execution_count": 28,
   "id": "eac573d5",
   "metadata": {},
   "outputs": [
    {
     "data": {
      "image/png": "[encoded data removed]",
      "text/latex": [
       "$\\displaystyle \\left\\{-1\\right\\}$"
      ],
      "text/plain": [
       "{-1}"
      ]
     },
     "execution_count": 28,
     "metadata": {},
     "output_type": "execute_result"
    }
   ],
   "source": [
    "sym.solveset(x**2 + 2*x + 1)"
   ]
  },
  {
   "cell_type": "markdown",
   "id": "9beef59a",
   "metadata": {},
   "source": [
    "For polynomials only, we can get the multiplicities using `roots`:"
   ]
  },
  {
   "cell_type": "code",
   "execution_count": 29,
   "id": "294eace4",
   "metadata": {},
   "outputs": [
    {
     "data": {
      "image/png": "[encoded data removed]",
      "text/latex": [
       "$\\displaystyle \\left\\{ -1 : 2\\right\\}$"
      ],
      "text/plain": [
       "{-1: 2}"
      ]
     },
     "execution_count": 29,
     "metadata": {},
     "output_type": "execute_result"
    }
   ],
   "source": [
    "sym.roots(x**2 + 2*x + 1)"
   ]
  },
  {
   "cell_type": "markdown",
   "id": "4e3c2730",
   "metadata": {},
   "source": [
    "You can also obtain the roots of an expression in terms of another variable:"
   ]
  },
  {
   "cell_type": "code",
   "execution_count": 30,
   "id": "92e5fe24",
   "metadata": {},
   "outputs": [
    {
     "data": {
      "image/png": "[encoded data removed]",
      "text/latex": [
       "$\\displaystyle \\left\\{- \\frac{y}{2} - \\frac{\\sqrt{\\left(y - 2\\right) \\left(y + 2\\right)}}{2}, - \\frac{y}{2} + \\frac{\\sqrt{\\left(y - 2\\right) \\left(y + 2\\right)}}{2}\\right\\}$"
      ],
      "text/plain": [
       "⎧        _________________          _________________⎫\n",
       "⎪  y   ╲╱ (y - 2)⋅(y + 2)     y   ╲╱ (y - 2)⋅(y + 2) ⎪\n",
       "⎨- ─ - ───────────────────, - ─ + ───────────────────⎬\n",
       "⎪  2            2             2            2         ⎪\n",
       "⎩                                                    ⎭"
      ]
     },
     "execution_count": 30,
     "metadata": {},
     "output_type": "execute_result"
    }
   ],
   "source": [
    "# solve x^2 + yx + 1 = 0 for x\n",
    "sym.solveset(x**2 + y*x + 1, x)"
   ]
  },
  {
   "cell_type": "markdown",
   "id": "e7903ddf",
   "metadata": {},
   "source": [
    "To access these solutions, you can convert them to a list:"
   ]
  },
  {
   "cell_type": "code",
   "execution_count": 31,
   "id": "c544236c",
   "metadata": {},
   "outputs": [],
   "source": [
    "sols = sym.solveset(x**2 + y*x + 1, x)"
   ]
  },
  {
   "cell_type": "code",
   "execution_count": 32,
   "id": "9259b4eb",
   "metadata": {},
   "outputs": [
    {
     "data": {
      "image/png": "[encoded data removed]",
      "text/latex": [
       "$\\displaystyle - \\frac{y}{2} - \\frac{\\sqrt{\\left(y - 2\\right) \\left(y + 2\\right)}}{2}$"
      ],
      "text/plain": [
       "        _________________\n",
       "  y   ╲╱ (y - 2)⋅(y + 2) \n",
       "- ─ - ───────────────────\n",
       "  2            2         "
      ]
     },
     "execution_count": 32,
     "metadata": {},
     "output_type": "execute_result"
    }
   ],
   "source": [
    "sols = list(sols)\n",
    "sols[0]"
   ]
  },
  {
   "cell_type": "markdown",
   "id": "f2b0644e",
   "metadata": {},
   "source": [
    "Alternatively, you can iterate through them directly:"
   ]
  },
  {
   "cell_type": "code",
   "execution_count": 33,
   "id": "5a2971c8",
   "metadata": {},
   "outputs": [
    {
     "name": "stdout",
     "output_type": "stream",
     "text": [
      "-y/2 - sqrt((y - 2)*(y + 2))/2 evaluated at y = 1: -0.5 - 0.866025403784439*I\n",
      "-y/2 + sqrt((y - 2)*(y + 2))/2 evaluated at y = 1: -0.5 + 0.866025403784439*I\n"
     ]
    }
   ],
   "source": [
    "sols = sym.solveset(x**2 + y*x + 1, x)\n",
    "for sol in sols:\n",
    "    print(f\"{sol} evaluated at y = 1: {sol.evalf(subs={y: 1})}\")"
   ]
  },
  {
   "cell_type": "markdown",
   "id": "d7369dbf",
   "metadata": {},
   "source": [
    "## Solving systems of equations"
   ]
  },
  {
   "cell_type": "markdown",
   "id": "7848b528",
   "metadata": {},
   "source": [
    "Suppose we want to find stationary points of the following system of ODES\n",
    "\n",
    "\\\\[ \\frac{du}{dt} = (u+1)v \\\\ \n",
    "    \\frac{dv}{dt} = v(u + 2v).\n",
    "   \\\\]\n",
    "   \n",
    "That is, we want to solve the system\n",
    "\n",
    "\\\\[ (u+1)v = 0 \\\\ \n",
    "    v(u + 2v) = 0.\n",
    "   \\\\]\n",
    "\n",
    "First we create our symbols. We will use `real=True` to only get real solutions to our system."
   ]
  },
  {
   "cell_type": "code",
   "execution_count": 34,
   "id": "f2841264",
   "metadata": {},
   "outputs": [],
   "source": [
    "u, v = sym.symbols(\"u v\", real=True)"
   ]
  },
  {
   "cell_type": "markdown",
   "id": "92b8ab77",
   "metadata": {},
   "source": [
    "Now our system is represented by the following expressions (which `SymPy` will assume we are trying to find roots of, as above)"
   ]
  },
  {
   "cell_type": "code",
   "execution_count": 35,
   "id": "a6c7d281",
   "metadata": {},
   "outputs": [],
   "source": [
    "eqs = [(u + 1) * v, v*(u + 2*v)]"
   ]
  },
  {
   "cell_type": "markdown",
   "id": "2742e2f5",
   "metadata": {},
   "source": [
    "And we can solve like so:"
   ]
  },
  {
   "cell_type": "code",
   "execution_count": 36,
   "id": "27102754",
   "metadata": {},
   "outputs": [
    {
     "data": {
      "image/png": "[encoded data removed]",
      "text/latex": [
       "$\\displaystyle \\left[ \\left( -1, \\  0\\right), \\  \\left( -1, \\  \\frac{1}{2}\\right), \\  \\left( u, \\  0\\right)\\right]$"
      ],
      "text/plain": [
       "[(-1, 0), (-1, 1/2), (u, 0)]"
      ]
     },
     "execution_count": 36,
     "metadata": {},
     "output_type": "execute_result"
    }
   ],
   "source": [
    "sols = sym.solve(eqs, [u, v])\n",
    "\n",
    "sols"
   ]
  },
  {
   "cell_type": "markdown",
   "id": "8006f8f3",
   "metadata": {},
   "source": [
    "Note that unlike `solveset`, the output from `solve` is already in `list` form."
   ]
  },
  {
   "cell_type": "code",
   "execution_count": 37,
   "id": "a5d68a36",
   "metadata": {},
   "outputs": [
    {
     "data": {
      "image/png": "[encoded data removed]",
      "text/latex": [
       "$\\displaystyle \\frac{1}{2}$"
      ],
      "text/plain": [
       "1/2"
      ]
     },
     "execution_count": 37,
     "metadata": {},
     "output_type": "execute_result"
    }
   ],
   "source": [
    "sols[1][1]"
   ]
  },
  {
   "cell_type": "markdown",
   "id": "2e6cedd7",
   "metadata": {},
   "source": [
    "# Differentiation\n",
    "\n",
    "One of the nice features of `SymPy` is its ability to perform differentiation (both partial and total). Let's consider a moderately complicated function with a high likelihood of mistakes if we took derivatives by hand, $V(x) = (\\tan^2(x) + 1)^3\\sinh(x^3)$:"
   ]
  },
  {
   "cell_type": "code",
   "execution_count": 38,
   "id": "c9cc8c6b",
   "metadata": {},
   "outputs": [],
   "source": [
    "V = (sym.tan(x) ** 2 + 1)**3 * sym.sinh(x**3)"
   ]
  },
  {
   "cell_type": "markdown",
   "id": "4a2ad182",
   "metadata": {},
   "source": [
    "To differentiate, use `sym.diff`, specifying which variable to differentiate with respect to (here there is of course only one option):"
   ]
  },
  {
   "cell_type": "code",
   "execution_count": 39,
   "id": "0d483ded",
   "metadata": {},
   "outputs": [
    {
     "data": {
      "image/png": "[encoded data removed]",
      "text/latex": [
       "$\\displaystyle 3 x^{2} \\left(\\tan^{2}{\\left(x \\right)} + 1\\right)^{3} \\cosh{\\left(x^{3} \\right)} + 3 \\left(\\tan^{2}{\\left(x \\right)} + 1\\right)^{2} \\cdot \\left(2 \\tan^{2}{\\left(x \\right)} + 2\\right) \\tan{\\left(x \\right)} \\sinh{\\left(x^{3} \\right)}$"
      ],
      "text/plain": [
       "                  3                           2                               \n",
       "   2 ⎛   2       ⎞      ⎛ 3⎞     ⎛   2       ⎞  ⎛     2       ⎞            ⎛ 3\n",
       "3⋅x ⋅⎝tan (x) + 1⎠ ⋅cosh⎝x ⎠ + 3⋅⎝tan (x) + 1⎠ ⋅⎝2⋅tan (x) + 2⎠⋅tan(x)⋅sinh⎝x \n",
       "\n",
       " \n",
       "⎞\n",
       "⎠"
      ]
     },
     "execution_count": 39,
     "metadata": {},
     "output_type": "execute_result"
    }
   ],
   "source": [
    "# Differentiate V with respect to x\n",
    "sym.diff(V, x)"
   ]
  },
  {
   "cell_type": "markdown",
   "id": "655afa30",
   "metadata": {},
   "source": [
    "To take higher derivatives, just add a number to the end:"
   ]
  },
  {
   "cell_type": "code",
   "execution_count": 40,
   "id": "cfa0a5d9",
   "metadata": {},
   "outputs": [
    {
     "data": {
      "image/png": "[encoded data removed]",
      "text/latex": [
       "$\\displaystyle 3 \\left(\\tan^{2}{\\left(x \\right)} + 1\\right)^{3} \\cdot \\left(12 x^{2} \\tan{\\left(x \\right)} \\cosh{\\left(x^{3} \\right)} + x \\left(3 x^{3} \\sinh{\\left(x^{3} \\right)} + 2 \\cosh{\\left(x^{3} \\right)}\\right) + 2 \\cdot \\left(7 \\tan^{2}{\\left(x \\right)} + 1\\right) \\sinh{\\left(x^{3} \\right)}\\right)$"
      ],
      "text/plain": [
       "               3                                                              \n",
       "  ⎛   2       ⎞  ⎛    2            ⎛ 3⎞     ⎛   3     ⎛ 3⎞         ⎛ 3⎞⎞     ⎛\n",
       "3⋅⎝tan (x) + 1⎠ ⋅⎝12⋅x ⋅tan(x)⋅cosh⎝x ⎠ + x⋅⎝3⋅x ⋅sinh⎝x ⎠ + 2⋅cosh⎝x ⎠⎠ + 2⋅⎝\n",
       "\n",
       "                        \n",
       "     2       ⎞     ⎛ 3⎞⎞\n",
       "7⋅tan (x) + 1⎠⋅sinh⎝x ⎠⎠"
      ]
     },
     "execution_count": 40,
     "metadata": {},
     "output_type": "execute_result"
    }
   ],
   "source": [
    "# d^2/dx^2 (V):\n",
    "sym.diff(V, x, 2)"
   ]
  },
  {
   "cell_type": "markdown",
   "id": "364ed995",
   "metadata": {},
   "source": [
    "Alternatively, you can write out the variable you are differentiating with respect to repeatedly:"
   ]
  },
  {
   "cell_type": "code",
   "execution_count": 41,
   "id": "52e7c544",
   "metadata": {},
   "outputs": [
    {
     "data": {
      "image/png": "[encoded data removed]",
      "text/latex": [
       "$\\displaystyle 3 \\left(\\tan^{2}{\\left(x \\right)} + 1\\right)^{3} \\cdot \\left(12 x^{2} \\tan{\\left(x \\right)} \\cosh{\\left(x^{3} \\right)} + x \\left(3 x^{3} \\sinh{\\left(x^{3} \\right)} + 2 \\cosh{\\left(x^{3} \\right)}\\right) + 2 \\cdot \\left(7 \\tan^{2}{\\left(x \\right)} + 1\\right) \\sinh{\\left(x^{3} \\right)}\\right)$"
      ],
      "text/plain": [
       "               3                                                              \n",
       "  ⎛   2       ⎞  ⎛    2            ⎛ 3⎞     ⎛   3     ⎛ 3⎞         ⎛ 3⎞⎞     ⎛\n",
       "3⋅⎝tan (x) + 1⎠ ⋅⎝12⋅x ⋅tan(x)⋅cosh⎝x ⎠ + x⋅⎝3⋅x ⋅sinh⎝x ⎠ + 2⋅cosh⎝x ⎠⎠ + 2⋅⎝\n",
       "\n",
       "                        \n",
       "     2       ⎞     ⎛ 3⎞⎞\n",
       "7⋅tan (x) + 1⎠⋅sinh⎝x ⎠⎠"
      ]
     },
     "execution_count": 41,
     "metadata": {},
     "output_type": "execute_result"
    }
   ],
   "source": [
    "sym.diff(V, x, x)"
   ]
  },
  {
   "cell_type": "markdown",
   "id": "8f0ae5f9",
   "metadata": {},
   "source": [
    "## Partial Derivatives\n",
    "\n",
    "Now let's consider a function of three variables $x, y, z$:"
   ]
  },
  {
   "cell_type": "code",
   "execution_count": 42,
   "id": "06b21be5",
   "metadata": {},
   "outputs": [
    {
     "data": {
      "image/png": "[encoded data removed]",
      "text/latex": [
       "$\\displaystyle \\frac{3 \\left(x + y\\right)^{2} e^{x y}}{\\log{\\left(z \\right)}}$"
      ],
      "text/plain": [
       "         2  x⋅y\n",
       "3⋅(x + y) ⋅ℯ   \n",
       "───────────────\n",
       "     log(z)    "
      ]
     },
     "execution_count": 42,
     "metadata": {},
     "output_type": "execute_result"
    }
   ],
   "source": [
    "V = (3 * (x + y)**2 * sym.exp(x*y))/sym.log(z)\n",
    "\n",
    "V"
   ]
  },
  {
   "cell_type": "markdown",
   "id": "9bce8b2f",
   "metadata": {},
   "source": [
    "We can compute $\\frac{\\partial V}{\\partial x}$ in precisely the same way as above:"
   ]
  },
  {
   "cell_type": "code",
   "execution_count": 43,
   "id": "c0a07b8b",
   "metadata": {},
   "outputs": [
    {
     "data": {
      "image/png": "[encoded data removed]",
      "text/latex": [
       "$\\displaystyle \\frac{3 y \\left(x + y\\right)^{2} e^{x y}}{\\log{\\left(z \\right)}} + \\frac{\\left(6 x + 6 y\\right) e^{x y}}{\\log{\\left(z \\right)}}$"
      ],
      "text/plain": [
       "           2  x⋅y                x⋅y\n",
       "3⋅y⋅(x + y) ⋅ℯ      (6⋅x + 6⋅y)⋅ℯ   \n",
       "───────────────── + ────────────────\n",
       "      log(z)             log(z)     "
      ]
     },
     "execution_count": 43,
     "metadata": {},
     "output_type": "execute_result"
    }
   ],
   "source": [
    "sym.diff(V, x)"
   ]
  },
  {
   "cell_type": "markdown",
   "id": "ce99d5d5",
   "metadata": {},
   "source": [
    "The same would work for any of the other first partial derivatives; just replace `x` with the variable of interest.\n",
    "\n",
    "If we instead wanted $\\frac{\\partial^2 V}{\\partial z\\partial x}$, we could obtain it like so:"
   ]
  },
  {
   "cell_type": "code",
   "execution_count": 44,
   "id": "4b7d4ead",
   "metadata": {},
   "outputs": [
    {
     "data": {
      "image/png": "[encoded data removed]",
      "text/latex": [
       "$\\displaystyle - \\frac{3 \\left(x + y\\right) \\left(y \\left(x + y\\right) + 2\\right) e^{x y}}{z \\log{\\left(z \\right)}^{2}}$"
      ],
      "text/plain": [
       "                            x⋅y \n",
       "-3⋅(x + y)⋅(y⋅(x + y) + 2)⋅ℯ    \n",
       "────────────────────────────────\n",
       "                2               \n",
       "           z⋅log (z)            "
      ]
     },
     "execution_count": 44,
     "metadata": {},
     "output_type": "execute_result"
    }
   ],
   "source": [
    "sym.diff(V, x, z)"
   ]
  },
  {
   "cell_type": "markdown",
   "id": "b5f2b927",
   "metadata": {},
   "source": [
    "In general, to compute $\\frac{\\partial^N V}{\\partial x_1\\partial x_2 \\cdots \\partial x_N}$, use `sym.diff(V, x_N, x_(N-1), ..., x_2, x_1)`. Remember that the order can matter (though very often does not for the functions we are interested in)."
   ]
  },
  {
   "cell_type": "markdown",
   "id": "60f2f99c",
   "metadata": {},
   "source": [
    "## Unevaluated derivative\n",
    "\n",
    "It is possible to construct an object representing a derivative without actually computing it:"
   ]
  },
  {
   "cell_type": "code",
   "execution_count": 45,
   "id": "9996917c",
   "metadata": {},
   "outputs": [
    {
     "data": {
      "image/png": "[encoded data removed]",
      "text/latex": [
       "$\\displaystyle \\frac{\\partial^{2}}{\\partial y\\partial x} \\frac{3 \\left(x + y\\right)^{2} e^{x y}}{\\log{\\left(z \\right)}}$"
      ],
      "text/plain": [
       "   2 ⎛         2  x⋅y⎞\n",
       "  ∂  ⎜3⋅(x + y) ⋅ℯ   ⎟\n",
       "─────⎜───────────────⎟\n",
       "∂y ∂x⎝     log(z)    ⎠"
      ]
     },
     "execution_count": 45,
     "metadata": {},
     "output_type": "execute_result"
    }
   ],
   "source": [
    "D = sym.Derivative(V, x, y)\n",
    "D"
   ]
  },
  {
   "cell_type": "markdown",
   "id": "d238076a",
   "metadata": {},
   "source": [
    "This might seem like an odd thing to do, but you might want to build up an expression involving a very messy derivative without having it expand and make it difficult to see what's going on. To evaluate such a derivative, use `doit`:"
   ]
  },
  {
   "cell_type": "code",
   "execution_count": 46,
   "id": "04a0da39",
   "metadata": {},
   "outputs": [
    {
     "data": {
      "image/png": "[encoded data removed]",
      "text/latex": [
       "$\\displaystyle \\frac{3 \\left(x y \\left(x + y\\right)^{2} + 2 x \\left(x + y\\right) + 2 y \\left(x + y\\right) + \\left(x + y\\right)^{2} + 2\\right) e^{x y}}{\\log{\\left(z \\right)}}$"
      ],
      "text/plain": [
       "  ⎛           2                                      2    ⎞  x⋅y\n",
       "3⋅⎝x⋅y⋅(x + y)  + 2⋅x⋅(x + y) + 2⋅y⋅(x + y) + (x + y)  + 2⎠⋅ℯ   \n",
       "────────────────────────────────────────────────────────────────\n",
       "                             log(z)                             "
      ]
     },
     "execution_count": 46,
     "metadata": {},
     "output_type": "execute_result"
    }
   ],
   "source": [
    "D.doit()"
   ]
  },
  {
   "cell_type": "markdown",
   "id": "1d603bcf",
   "metadata": {},
   "source": [
    "You can also use `doit` on any expression in which `D` appears."
   ]
  },
  {
   "cell_type": "markdown",
   "id": "202bd0c1",
   "metadata": {},
   "source": [
    "# Integration\n",
    "\n",
    "CASs are very well suited to performing differentiation for us, as there's nothing particularly \"clever\" going on - the rules for differentiation are relatively straightforward and you could apply them by hand. Integration, on the other hand, can be very difficult. `SymPy` can integrate many functions that would be annoying to do manually. For example, the function $f(x) = x^{5} e^{2x} \\sin(\\frac{x}{3})$ can be integrated using repeated integration by parts, but it would be a little unpleasant. `SymPy` can compute it easily:"
   ]
  },
  {
   "cell_type": "code",
   "execution_count": 47,
   "id": "9c46759e",
   "metadata": {},
   "outputs": [
    {
     "data": {
      "image/png": "[encoded data removed]",
      "text/latex": [
       "$\\displaystyle x^{3} e^{2 x} \\sin{\\left(\\frac{x}{3} \\right)}$"
      ],
      "text/plain": [
       " 3  2⋅x    ⎛x⎞\n",
       "x ⋅ℯ   ⋅sin⎜─⎟\n",
       "           ⎝3⎠"
      ]
     },
     "execution_count": 47,
     "metadata": {},
     "output_type": "execute_result"
    }
   ],
   "source": [
    "f = x**3 * sym.exp(2*x) * sym.sin(x/3)\n",
    "f"
   ]
  },
  {
   "cell_type": "code",
   "execution_count": 48,
   "id": "622502b1",
   "metadata": {},
   "outputs": [
    {
     "data": {
      "image/png": "[encoded data removed]",
      "text/latex": [
       "$\\displaystyle \\frac{18 x^{3} e^{2 x} \\sin{\\left(\\frac{x}{3} \\right)}}{37} - \\frac{3 x^{3} e^{2 x} \\cos{\\left(\\frac{x}{3} \\right)}}{37} - \\frac{945 x^{2} e^{2 x} \\sin{\\left(\\frac{x}{3} \\right)}}{1369} + \\frac{324 x^{2} e^{2 x} \\cos{\\left(\\frac{x}{3} \\right)}}{1369} + \\frac{32076 x e^{2 x} \\sin{\\left(\\frac{x}{3} \\right)}}{50653} - \\frac{17334 x e^{2 x} \\cos{\\left(\\frac{x}{3} \\right)}}{50653} - \\frac{525366 e^{2 x} \\sin{\\left(\\frac{x}{3} \\right)}}{1874161} + \\frac{408240 e^{2 x} \\cos{\\left(\\frac{x}{3} \\right)}}{1874161}$"
      ],
      "text/plain": [
       "    3  2⋅x    ⎛x⎞      3  2⋅x    ⎛x⎞        2  2⋅x    ⎛x⎞        2  2⋅x    ⎛x⎞\n",
       "18⋅x ⋅ℯ   ⋅sin⎜─⎟   3⋅x ⋅ℯ   ⋅cos⎜─⎟   945⋅x ⋅ℯ   ⋅sin⎜─⎟   324⋅x ⋅ℯ   ⋅cos⎜─⎟\n",
       "              ⎝3⎠                ⎝3⎠                  ⎝3⎠                  ⎝3⎠\n",
       "───────────────── - ──────────────── - ────────────────── + ──────────────────\n",
       "        37                 37                 1369                 1369       \n",
       "\n",
       "            2⋅x    ⎛x⎞            2⋅x    ⎛x⎞           2⋅x    ⎛x⎞           2⋅\n",
       "   32076⋅x⋅ℯ   ⋅sin⎜─⎟   17334⋅x⋅ℯ   ⋅cos⎜─⎟   525366⋅ℯ   ⋅sin⎜─⎟   408240⋅ℯ  \n",
       "                   ⎝3⎠                   ⎝3⎠                  ⎝3⎠             \n",
       " + ─────────────────── - ─────────────────── - ────────────────── + ──────────\n",
       "          50653                 50653               1874161              18741\n",
       "\n",
       "x    ⎛x⎞\n",
       " ⋅cos⎜─⎟\n",
       "     ⎝3⎠\n",
       "────────\n",
       "61      "
      ]
     },
     "execution_count": 48,
     "metadata": {},
     "output_type": "execute_result"
    }
   ],
   "source": [
    "sym.integrate(f, x)"
   ]
  },
  {
   "cell_type": "markdown",
   "id": "704403ad",
   "metadata": {},
   "source": [
    "## Definite integrals\n",
    "\n",
    "To compute a definite integral, just provide `integrate` with the limits as well. For example, to compute $\\int_{-3}^4 f(x) dx$ we would do"
   ]
  },
  {
   "cell_type": "code",
   "execution_count": 49,
   "id": "91f28116",
   "metadata": {},
   "outputs": [
    {
     "data": {
      "image/png": "[encoded data removed]",
      "text/latex": [
       "$\\displaystyle - \\frac{115990488 e^{8} \\cos{\\left(\\frac{4}{3} \\right)}}{69343957} - \\frac{1033886511 \\sin{\\left(1 \\right)}}{69343957 e^{6}} - \\frac{532917954 \\cos{\\left(1 \\right)}}{69343957 e^{6}} + \\frac{518906808 e^{8} \\sin{\\left(\\frac{4}{3} \\right)}}{69343957}$"
      ],
      "text/plain": [
       "             8                        -6                     -6               \n",
       "  115990488⋅ℯ ⋅cos(4/3)   1033886511⋅ℯ  ⋅sin(1)   532917954⋅ℯ  ⋅cos(1)   51890\n",
       "- ───────────────────── - ───────────────────── - ──────────────────── + ─────\n",
       "         69343957                69343957               69343957              \n",
       "\n",
       "      8         \n",
       "6808⋅ℯ ⋅sin(4/3)\n",
       "────────────────\n",
       "  69343957      "
      ]
     },
     "execution_count": 49,
     "metadata": {},
     "output_type": "execute_result"
    }
   ],
   "source": [
    "# add the argument (x, -3, 4)\n",
    "sym.integrate(f, x, (x, -3, 4))"
   ]
  },
  {
   "cell_type": "markdown",
   "id": "d7c068d7",
   "metadata": {},
   "source": [
    "To evaluate definite integrals with limits at infinity, use `sym.oo` (two o's). For example, to compute $\\int_{-\\infty}^0 f(x)dx$:"
   ]
  },
  {
   "cell_type": "code",
   "execution_count": 50,
   "id": "180dee75",
   "metadata": {},
   "outputs": [
    {
     "data": {
      "image/png": "[encoded data removed]",
      "text/latex": [
       "$\\displaystyle \\frac{35697672}{69343957}$"
      ],
      "text/plain": [
       "35697672\n",
       "────────\n",
       "69343957"
      ]
     },
     "execution_count": 50,
     "metadata": {},
     "output_type": "execute_result"
    }
   ],
   "source": [
    "sym.integrate(f, x, (x, -sym.oo, 0))"
   ]
  },
  {
   "cell_type": "markdown",
   "id": "80c10938",
   "metadata": {},
   "source": [
    "## Multiple integrals\n",
    "\n",
    "Computing multiple integrals works just like computing multiple derivatives: just give the variables and limits in the order you want the integrals to be performed. As an example, here is how to compute $\\int_{-\\infty}^{0} \\int_{-2\\pi}^{y} x^2 e^y dx\\, dy$:"
   ]
  },
  {
   "cell_type": "code",
   "execution_count": 51,
   "id": "92c66f62",
   "metadata": {},
   "outputs": [
    {
     "data": {
      "image/png": "[encoded data removed]",
      "text/latex": [
       "$\\displaystyle -2 + \\frac{8 \\pi^{3}}{3}$"
      ],
      "text/plain": [
       "        3\n",
       "     8⋅π \n",
       "-2 + ────\n",
       "      3  "
      ]
     },
     "execution_count": 51,
     "metadata": {},
     "output_type": "execute_result"
    }
   ],
   "source": [
    "g = x ** 2 * sym.exp(y)\n",
    "\n",
    "sym.integrate(g, (x, -2*sym.pi, y), (y, -sym.oo, 0))"
   ]
  },
  {
   "cell_type": "markdown",
   "id": "43ca824e",
   "metadata": {},
   "source": [
    "## Unevaluated integrals\n",
    "\n",
    "As with derivatives, you can leave an integral in an unevaluated form. This can be useful to check that you have entered the limits correctly and are integrating in the correct order."
   ]
  },
  {
   "cell_type": "code",
   "execution_count": 52,
   "id": "f3b089c4",
   "metadata": {},
   "outputs": [
    {
     "data": {
      "image/png": "[encoded data removed]",
      "text/latex": [
       "$\\displaystyle \\int\\limits_{-\\infty}^{0}\\int\\limits_{- 2 \\pi}^{y} x^{2} e^{y}\\, dx\\, dy$"
      ],
      "text/plain": [
       "0   y              \n",
       "⌠   ⌠              \n",
       "⎮   ⎮    2  y      \n",
       "⎮   ⎮   x ⋅ℯ  dx dy\n",
       "⌡   ⌡              \n",
       "-∞ -2⋅π            "
      ]
     },
     "execution_count": 52,
     "metadata": {},
     "output_type": "execute_result"
    }
   ],
   "source": [
    "sym.Integral(g, (x, -2*sym.pi, y), (y, -sym.oo, 0))"
   ]
  },
  {
   "cell_type": "markdown",
   "id": "e0c72cb1",
   "metadata": {},
   "source": [
    "To evaluate the integral, use `doit`:"
   ]
  },
  {
   "cell_type": "code",
   "execution_count": 53,
   "id": "ef511acb",
   "metadata": {},
   "outputs": [
    {
     "data": {
      "image/png": "[encoded data removed]",
      "text/latex": [
       "$\\displaystyle -2 + \\frac{8 \\pi^{3}}{3}$"
      ],
      "text/plain": [
       "        3\n",
       "     8⋅π \n",
       "-2 + ────\n",
       "      3  "
      ]
     },
     "execution_count": 53,
     "metadata": {},
     "output_type": "execute_result"
    }
   ],
   "source": [
    "I = sym.Integral(g, (x, -2*sym.pi, y), (y, -sym.oo, 0))\n",
    "\n",
    "I.doit()"
   ]
  },
  {
   "cell_type": "markdown",
   "id": "7ce92b87",
   "metadata": {},
   "source": [
    "## Special functions\n",
    "\n",
    "Many integrals do not have nice solutions, i.e. cannot be expressed in closed-form in terms of standard functions. Some of these integrals have solutions in terms of *special functions* like the *error function* or the *gamma function*:"
   ]
  },
  {
   "cell_type": "code",
   "execution_count": 54,
   "id": "83bdfb39",
   "metadata": {},
   "outputs": [
    {
     "data": {
      "image/png": "[encoded data removed]",
      "text/latex": [
       "$\\displaystyle \\frac{\\sqrt{\\pi} \\operatorname{erf}{\\left(x \\right)}}{2}$"
      ],
      "text/plain": [
       "√π⋅erf(x)\n",
       "─────────\n",
       "    2    "
      ]
     },
     "execution_count": 54,
     "metadata": {},
     "output_type": "execute_result"
    }
   ],
   "source": [
    "sym.integrate(sym.exp(-x**2), x)"
   ]
  },
  {
   "cell_type": "code",
   "execution_count": 55,
   "id": "8ff9dc63",
   "metadata": {},
   "outputs": [
    {
     "data": {
      "image/png": "[encoded data removed]",
      "text/latex": [
       "$\\displaystyle \\frac{\\Gamma\\left(\\frac{1}{3}\\right) \\gamma\\left(\\frac{1}{3}, 27\\right)}{9 \\Gamma\\left(\\frac{4}{3}\\right)}$"
      ],
      "text/plain": [
       "Γ(1/3)⋅γ(1/3, 27)\n",
       "─────────────────\n",
       "     9⋅Γ(4/3)    "
      ]
     },
     "execution_count": 55,
     "metadata": {},
     "output_type": "execute_result"
    }
   ],
   "source": [
    "sym.integrate(sym.exp(-x**3), (x, 0, 3))"
   ]
  },
  {
   "cell_type": "markdown",
   "id": "d2e4d572",
   "metadata": {},
   "source": [
    "Sometimes `SymPy` simply cannot perform the integration, in which case it just returns the integral:"
   ]
  },
  {
   "cell_type": "code",
   "execution_count": 56,
   "id": "2235d688",
   "metadata": {},
   "outputs": [
    {
     "data": {
      "image/png": "[encoded data removed]",
      "text/latex": [
       "$\\displaystyle \\int e^{- x^{2}} \\sin{\\left(x \\right)}\\, dx$"
      ],
      "text/plain": [
       "⌠               \n",
       "⎮    2          \n",
       "⎮  -x           \n",
       "⎮ ℯ   ⋅sin(x) dx\n",
       "⌡               "
      ]
     },
     "execution_count": 56,
     "metadata": {},
     "output_type": "execute_result"
    }
   ],
   "source": [
    "sym.integrate(sym.sin(x) * sym.exp(-x**2))"
   ]
  },
  {
   "cell_type": "markdown",
   "id": "20384da6",
   "metadata": {},
   "source": [
    "# Plotting\n",
    "\n",
    "If we want to produce plots from expressions, it is convenient to convert the expression into a form that `numpy` can understand. To do this, use the `lambdify` function:"
   ]
  },
  {
   "cell_type": "code",
   "execution_count": 57,
   "id": "e04b92b0",
   "metadata": {},
   "outputs": [],
   "source": [
    "import numpy\n",
    "\n",
    "T = sym.cos(x) * (x**2 + y**2)\n",
    "\n",
    "# First argument is the arguments of the new function (in order)\n",
    "# Second argument is the expression to convert\n",
    "# Third argument is the module to use (typically numpy)\n",
    "U = sym.lambdify([x, y], T, \"numpy\")"
   ]
  },
  {
   "cell_type": "markdown",
   "id": "72954526",
   "metadata": {},
   "source": [
    "Now the function can be plotted as usual:"
   ]
  },
  {
   "cell_type": "code",
   "execution_count": 58,
   "id": "be5b02dd",
   "metadata": {
    "run_control": {
     "marked": false
    }
   },
   "outputs": [],
   "source": [
    "import matplotlib.pyplot as plt"
   ]
  },
  {
   "cell_type": "code",
   "execution_count": 59,
   "id": "68a04f93",
   "metadata": {
    "run_control": {
     "marked": false
    }
   },
   "outputs": [
    {
     "data": {
      "image/png": "[encoded data removed]",
      "text/plain": [
       "<Figure size 576x576 with 1 Axes>"
      ]
     },
     "metadata": {
      "needs_background": "light"
     },
     "output_type": "display_data"
    }
   ],
   "source": [
    "%matplotlib inline\n",
    "\n",
    "xp = np.arange(-5, 5, 0.01)\n",
    "yp = np.arange(-5, 5, 0.01)\n",
    "\n",
    "X, Y = np.meshgrid(xp, yp)\n",
    "Z = U(X, Y)\n",
    "\n",
    "fig, ax = plt.subplots(subplot_kw={\"projection\": \"3d\"}, figsize=(8, 8))\n",
    "\n",
    "ax.plot_surface(X, Y, Z, cmap=\"coolwarm\");\n",
    "ax.set_xlabel('x',fontsize=14)\n",
    "ax.set_ylabel('y',fontsize=14)\n",
    "ax.set_zlabel('T(x,y)',fontsize=14);"
   ]
  },
  {
   "cell_type": "markdown",
   "id": "0e4e94e7",
   "metadata": {},
   "source": [
    "We might want to just look at a \"slice\" of that surface, say through the plane $y = 1$. We would do the same thing, but substitute in $y = 1$ first:"
   ]
  },
  {
   "cell_type": "code",
   "execution_count": 60,
   "id": "6a8d1abe",
   "metadata": {},
   "outputs": [],
   "source": [
    "T2 = T.subs(y, 1)\n",
    "U2 = sym.lambdify(x, T2, \"numpy\")"
   ]
  },
  {
   "cell_type": "code",
   "execution_count": 61,
   "id": "a553ca00",
   "metadata": {},
   "outputs": [
    {
     "data": {
      "image/png": "[encoded data removed]",
      "text/plain": [
       "<Figure size 576x576 with 1 Axes>"
      ]
     },
     "metadata": {
      "needs_background": "light"
     },
     "output_type": "display_data"
    }
   ],
   "source": [
    "%matplotlib inline\n",
    "\n",
    "X = np.arange(-5, 5, 0.01)\n",
    "Z = U2(X)\n",
    "\n",
    "fig, ax = plt.subplots(figsize=(8, 8))\n",
    "\n",
    "ax.plot(xp, Z);\n",
    "ax.set_xlabel('x',fontsize=14)\n",
    "ax.set_ylabel('T(x, 1)',fontsize=14);"
   ]
  },
  {
   "cell_type": "code",
   "execution_count": null,
   "id": "18447c85",
   "metadata": {},
   "outputs": [],
   "source": []
  }
 ],
 "metadata": {
  "kernelspec": {
   "display_name": "Python 3",
   "language": "python",
   "name": "python3"
  },
  "language_info": {
   "codemirror_mode": {
    "name": "ipython",
    "version": 3
   },
   "file_extension": ".py",
   "mimetype": "text/x-python",
   "name": "python",
   "nbconvert_exporter": "python",
   "pygments_lexer": "ipython3",
   "version": "3.10.4"
  },
  "toc": {
   "base_numbering": 1,
   "nav_menu": {},
   "number_sections": false,
   "sideBar": true,
   "skip_h1_title": false,
   "title_cell": "Table of Contents",
   "title_sidebar": "Contents",
   "toc_cell": false,
   "toc_position": {},
   "toc_section_display": true,
   "toc_window_display": true
  },
  "varInspector": {
   "cols": {
    "lenName": 16,
    "lenType": 16,
    "lenVar": 40
   },
   "kernels_config": {
    "python": {
     "delete_cmd_postfix": "",
     "delete_cmd_prefix": "del ",
     "library": "var_list.py",
     "varRefreshCmd": "print(var_dic_list())"
    },
    "r": {
     "delete_cmd_postfix": ") ",
     "delete_cmd_prefix": "rm(",
     "library": "var_list.r",
     "varRefreshCmd": "cat(var_dic_list()) "
    }
   },
   "types_to_exclude": [
    "module",
    "function",
    "builtin_function_or_method",
    "instance",
    "_Feature"
   ],
   "window_display": false
  }
 },
 "nbformat": 4,
 "nbformat_minor": 5
}
